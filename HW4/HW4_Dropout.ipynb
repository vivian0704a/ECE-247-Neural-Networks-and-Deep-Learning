{
  "cells": [
    {
      "cell_type": "markdown",
      "metadata": {
        "id": "wOA8xr4Kr77x"
      },
      "source": [
        "# Dropout\n",
        "\n",
        "In this notebook, you will implement dropout.  Then we will ask you to train a network with batchnorm and dropout, and acheive over 55% accuracy on CIFAR-10.\n",
        "\n",
        "Utils has a solid API for building these modular frameworks and training them, and we will use this very well implemented framework as opposed to \"reinventing the wheel.\"  This includes using the Solver, various utility functions, and the layer structure.  This also includes nndl.fc_net, nndl.layers, and nndl.layer_utils."
      ]
    },
    {
      "cell_type": "code",
      "source": [
        "from google.colab import drive\n",
        "drive.mount('/content/drive')\n",
        "%cd  /content/drive/MyDrive/ECE247/HW4/\n",
        "!pip install -r requirements-python2.txt"
      ],
      "metadata": {
        "id": "fpIglBKjtJHb"
      },
      "execution_count": null,
      "outputs": []
    },
    {
      "cell_type": "code",
      "execution_count": 2,
      "metadata": {
        "collapsed": true,
        "id": "wxpSf59rr77z"
      },
      "outputs": [],
      "source": [
        "## Import and setups\n",
        "\n",
        "import time\n",
        "import numpy as np\n",
        "import matplotlib.pyplot as plt\n",
        "from nndl.fc_net import *\n",
        "from nndl.layers import *\n",
        "from utils.data_utils import get_CIFAR10_data\n",
        "from utils.gradient_check import eval_numerical_gradient, eval_numerical_gradient_array\n",
        "from utils.solver import Solver\n",
        "\n",
        "%matplotlib inline\n",
        "plt.rcParams['figure.figsize'] = (10.0, 8.0) # set default size of plots\n",
        "plt.rcParams['image.interpolation'] = 'nearest'\n",
        "plt.rcParams['image.cmap'] = 'gray'\n",
        "\n",
        "# for auto-reloading external modules\n",
        "# see http://stackoverflow.com/questions/1907993/autoreload-of-modules-in-ipython\n",
        "%load_ext autoreload\n",
        "%autoreload 2\n",
        "\n",
        "def rel_error(x, y):\n",
        "    \"\"\" returns relative error \"\"\"\n",
        "    return np.max(np.abs(x - y) / (np.maximum(1e-8, np.abs(x) + np.abs(y))))"
      ]
    },
    {
      "cell_type": "code",
      "execution_count": 3,
      "metadata": {
        "id": "L4g6mzsxr770",
        "colab": {
          "base_uri": "https://localhost:8080/"
        },
        "outputId": "f5a22f87-7596-4727-c419-45edc8cf9f86"
      },
      "outputs": [
        {
          "output_type": "stream",
          "name": "stdout",
          "text": [
            "X_train: (49000, 3, 32, 32) \n",
            "y_train: (49000,) \n",
            "X_val: (1000, 3, 32, 32) \n",
            "y_val: (1000,) \n",
            "X_test: (1000, 3, 32, 32) \n",
            "y_test: (1000,) \n"
          ]
        }
      ],
      "source": [
        "# Load the (preprocessed) CIFAR10 data.\n",
        "\n",
        "data = get_CIFAR10_data()\n",
        "for k in data.keys():\n",
        "    print('{}: {} '.format(k, data[k].shape))"
      ]
    },
    {
      "cell_type": "markdown",
      "metadata": {
        "id": "E_mZnP_sr770"
      },
      "source": [
        "## Dropout forward pass\n",
        "\n",
        "Implement the training and test time dropout forward pass, `dropout_forward`, in `nndl/layers.py`. After that, test your implementation by running the following cell."
      ]
    },
    {
      "cell_type": "code",
      "execution_count": 4,
      "metadata": {
        "id": "oJYyHfBkr770",
        "colab": {
          "base_uri": "https://localhost:8080/"
        },
        "outputId": "9deabf55-c337-4765-9e17-5c398284756c"
      },
      "outputs": [
        {
          "output_type": "stream",
          "name": "stdout",
          "text": [
            "Running tests with p =  0.3\n",
            "Mean of input:  9.997966268754801\n",
            "Mean of train-time output:  10.017005118027186\n",
            "Mean of test-time output:  9.997966268754801\n",
            "Fraction of train-time output set to zero:  0.699516\n",
            "Fraction of test-time output set to zero:  0.0\n",
            "Running tests with p =  0.6\n",
            "Mean of input:  9.997966268754801\n",
            "Mean of train-time output:  9.996680134936437\n",
            "Mean of test-time output:  9.997966268754801\n",
            "Fraction of train-time output set to zero:  0.400104\n",
            "Fraction of test-time output set to zero:  0.0\n",
            "Running tests with p =  0.75\n",
            "Mean of input:  9.997966268754801\n",
            "Mean of train-time output:  10.00947133793914\n",
            "Mean of test-time output:  9.997966268754801\n",
            "Fraction of train-time output set to zero:  0.249244\n",
            "Fraction of test-time output set to zero:  0.0\n"
          ]
        }
      ],
      "source": [
        "x = np.random.randn(500, 500) + 10\n",
        "\n",
        "for p in [0.3, 0.6, 0.75]:\n",
        "    out, _ = dropout_forward(x, {'mode': 'train', 'p': p})\n",
        "    out_test, _ = dropout_forward(x, {'mode': 'test', 'p': p})\n",
        "\n",
        "    print('Running tests with p = ', p)\n",
        "    print('Mean of input: ', x.mean())\n",
        "    print('Mean of train-time output: ', out.mean())\n",
        "    print('Mean of test-time output: ', out_test.mean())\n",
        "    print('Fraction of train-time output set to zero: ', (out == 0).mean())\n",
        "    print('Fraction of test-time output set to zero: ', (out_test == 0).mean())"
      ]
    },
    {
      "cell_type": "markdown",
      "metadata": {
        "id": "e9SDqy1cr771"
      },
      "source": [
        "## Dropout backward pass\n",
        "\n",
        "Implement the backward pass, `dropout_backward`, in `nndl/layers.py`.  After that, test your gradients by running the following cell:"
      ]
    },
    {
      "cell_type": "code",
      "execution_count": 5,
      "metadata": {
        "id": "zl4M7ZKRr771",
        "colab": {
          "base_uri": "https://localhost:8080/"
        },
        "outputId": "bfa3e376-1abd-4cc4-81b3-e26948b9f016"
      },
      "outputs": [
        {
          "output_type": "stream",
          "name": "stdout",
          "text": [
            "dx relative error:  5.445609820963301e-11\n"
          ]
        }
      ],
      "source": [
        "x = np.random.randn(10, 10) + 10\n",
        "dout = np.random.randn(*x.shape)\n",
        "\n",
        "dropout_param = {'mode': 'train', 'p': 0.8, 'seed': 123}\n",
        "out, cache = dropout_forward(x, dropout_param)\n",
        "dx = dropout_backward(dout, cache)\n",
        "dx_num = eval_numerical_gradient_array(lambda xx: dropout_forward(xx, dropout_param)[0], x, dout)\n",
        "\n",
        "print('dx relative error: ', rel_error(dx, dx_num))"
      ]
    },
    {
      "cell_type": "markdown",
      "metadata": {
        "id": "LTsbY6M9r771"
      },
      "source": [
        "## Implement a fully connected neural network with dropout layers\n",
        "\n",
        "Modify the `FullyConnectedNet()` class in `nndl/fc_net.py` to incorporate dropout.  A dropout layer should be incorporated after every ReLU layer.  Concretely, there shouldn't be a dropout at the output layer since there is no ReLU at the output layer. You will need to modify the class in the following areas:\n",
        "\n",
        "(1) In the forward pass, you will need to incorporate a dropout layer after every relu layer.\n",
        "\n",
        "(2) In the backward pass, you will need to incorporate a dropout backward pass layer.\n",
        "\n",
        "Check your implementation by running the following code.  Our W1 gradient relative error is on the order of 1e-6 (the largest of all the relative errors)."
      ]
    },
    {
      "cell_type": "code",
      "execution_count": 6,
      "metadata": {
        "id": "DoS3VNehr772",
        "colab": {
          "base_uri": "https://localhost:8080/"
        },
        "outputId": "9b4fa922-b816-4c89-cf45-67fdb0d786f8"
      },
      "outputs": [
        {
          "output_type": "stream",
          "name": "stdout",
          "text": [
            "Running check with dropout =  0.5\n",
            "Initial loss:  2.309771209610118\n",
            "W1 relative error: 2.694274363733021e-07\n",
            "W2 relative error: 7.439246147919978e-08\n",
            "W3 relative error: 1.910371122296728e-08\n",
            "b1 relative error: 4.112891126518e-09\n",
            "b2 relative error: 5.756217724722137e-10\n",
            "b3 relative error: 1.3204470857080166e-10\n",
            "\n",
            "\n",
            "Running check with dropout =  0.75\n",
            "Initial loss:  2.306133548427975\n",
            "W1 relative error: 8.72986097970181e-08\n",
            "W2 relative error: 2.9777307885797295e-07\n",
            "W3 relative error: 1.8832780806174298e-08\n",
            "b1 relative error: 5.379486003985169e-08\n",
            "b2 relative error: 3.6529949080385546e-09\n",
            "b3 relative error: 9.987242764516995e-11\n",
            "\n",
            "\n",
            "Running check with dropout =  1.0\n",
            "Initial loss:  2.3053332250963194\n",
            "W1 relative error: 1.2744095365229032e-06\n",
            "W2 relative error: 4.678743300473988e-07\n",
            "W3 relative error: 4.331673892536035e-08\n",
            "b1 relative error: 4.0853539035931665e-08\n",
            "b2 relative error: 1.951342257912746e-09\n",
            "b3 relative error: 9.387142701440351e-11\n",
            "\n",
            "\n"
          ]
        }
      ],
      "source": [
        "N, D, H1, H2, C = 2, 15, 20, 30, 10\n",
        "X = np.random.randn(N, D)\n",
        "y = np.random.randint(C, size=(N,))\n",
        "\n",
        "for dropout in [0.5, 0.75, 1.0]:\n",
        "    print('Running check with dropout = ', dropout)\n",
        "    model = FullyConnectedNet([H1, H2], input_dim=D, num_classes=C,\n",
        "                              weight_scale=5e-2, dtype=np.float64,\n",
        "                              dropout=dropout, seed=123)\n",
        "\n",
        "    loss, grads = model.loss(X, y)\n",
        "    print('Initial loss: ', loss)\n",
        "\n",
        "    for name in sorted(grads):\n",
        "        f = lambda _: model.loss(X, y)[0]\n",
        "        grad_num = eval_numerical_gradient(f, model.params[name], verbose=False, h=1e-5)\n",
        "        print('{} relative error: {}'.format(name, rel_error(grad_num, grads[name])))\n",
        "    print('\\n')"
      ]
    },
    {
      "cell_type": "markdown",
      "metadata": {
        "id": "4dGL9PQfr772"
      },
      "source": [
        "## Dropout as a regularizer\n",
        "\n",
        "In class, we claimed that dropout acts as a regularizer by effectively bagging.  To check this, we will train two small networks, one with dropout and one without dropout.  "
      ]
    },
    {
      "cell_type": "code",
      "execution_count": 7,
      "metadata": {
        "id": "dgYPpZ3Tr772",
        "colab": {
          "base_uri": "https://localhost:8080/"
        },
        "outputId": "e5124db0-7ff3-40e3-f940-06b2a3c9a424"
      },
      "outputs": [
        {
          "output_type": "stream",
          "name": "stdout",
          "text": [
            "(Iteration 1 / 125) loss: 2.300199\n",
            "(Epoch 0 / 25) train acc: 0.158000; val_acc: 0.127000\n",
            "(Epoch 1 / 25) train acc: 0.132000; val_acc: 0.121000\n",
            "(Epoch 2 / 25) train acc: 0.204000; val_acc: 0.170000\n",
            "(Epoch 3 / 25) train acc: 0.240000; val_acc: 0.192000\n",
            "(Epoch 4 / 25) train acc: 0.312000; val_acc: 0.274000\n",
            "(Epoch 5 / 25) train acc: 0.314000; val_acc: 0.269000\n",
            "(Epoch 6 / 25) train acc: 0.364000; val_acc: 0.252000\n",
            "(Epoch 7 / 25) train acc: 0.390000; val_acc: 0.281000\n",
            "(Epoch 8 / 25) train acc: 0.386000; val_acc: 0.290000\n",
            "(Epoch 9 / 25) train acc: 0.372000; val_acc: 0.267000\n",
            "(Epoch 10 / 25) train acc: 0.424000; val_acc: 0.286000\n",
            "(Epoch 11 / 25) train acc: 0.396000; val_acc: 0.275000\n",
            "(Epoch 12 / 25) train acc: 0.458000; val_acc: 0.299000\n",
            "(Epoch 13 / 25) train acc: 0.496000; val_acc: 0.305000\n",
            "(Epoch 14 / 25) train acc: 0.492000; val_acc: 0.299000\n",
            "(Epoch 15 / 25) train acc: 0.550000; val_acc: 0.296000\n",
            "(Epoch 16 / 25) train acc: 0.584000; val_acc: 0.297000\n",
            "(Epoch 17 / 25) train acc: 0.582000; val_acc: 0.309000\n",
            "(Epoch 18 / 25) train acc: 0.612000; val_acc: 0.306000\n",
            "(Epoch 19 / 25) train acc: 0.628000; val_acc: 0.323000\n",
            "(Epoch 20 / 25) train acc: 0.608000; val_acc: 0.324000\n",
            "(Iteration 101 / 125) loss: 1.369535\n",
            "(Epoch 21 / 25) train acc: 0.644000; val_acc: 0.330000\n",
            "(Epoch 22 / 25) train acc: 0.708000; val_acc: 0.341000\n",
            "(Epoch 23 / 25) train acc: 0.690000; val_acc: 0.297000\n",
            "(Epoch 24 / 25) train acc: 0.740000; val_acc: 0.300000\n",
            "(Epoch 25 / 25) train acc: 0.750000; val_acc: 0.329000\n",
            "(Iteration 1 / 125) loss: 2.300607\n",
            "(Epoch 0 / 25) train acc: 0.172000; val_acc: 0.167000\n",
            "(Epoch 1 / 25) train acc: 0.210000; val_acc: 0.197000\n",
            "(Epoch 2 / 25) train acc: 0.284000; val_acc: 0.240000\n",
            "(Epoch 3 / 25) train acc: 0.302000; val_acc: 0.246000\n",
            "(Epoch 4 / 25) train acc: 0.392000; val_acc: 0.289000\n",
            "(Epoch 5 / 25) train acc: 0.420000; val_acc: 0.274000\n",
            "(Epoch 6 / 25) train acc: 0.420000; val_acc: 0.304000\n",
            "(Epoch 7 / 25) train acc: 0.474000; val_acc: 0.293000\n",
            "(Epoch 8 / 25) train acc: 0.516000; val_acc: 0.330000\n",
            "(Epoch 9 / 25) train acc: 0.566000; val_acc: 0.322000\n",
            "(Epoch 10 / 25) train acc: 0.620000; val_acc: 0.321000\n",
            "(Epoch 11 / 25) train acc: 0.656000; val_acc: 0.317000\n",
            "(Epoch 12 / 25) train acc: 0.676000; val_acc: 0.319000\n",
            "(Epoch 13 / 25) train acc: 0.680000; val_acc: 0.304000\n",
            "(Epoch 14 / 25) train acc: 0.754000; val_acc: 0.321000\n",
            "(Epoch 15 / 25) train acc: 0.800000; val_acc: 0.321000\n",
            "(Epoch 16 / 25) train acc: 0.800000; val_acc: 0.298000\n",
            "(Epoch 17 / 25) train acc: 0.870000; val_acc: 0.306000\n",
            "(Epoch 18 / 25) train acc: 0.892000; val_acc: 0.300000\n",
            "(Epoch 19 / 25) train acc: 0.906000; val_acc: 0.282000\n",
            "(Epoch 20 / 25) train acc: 0.924000; val_acc: 0.318000\n",
            "(Iteration 101 / 125) loss: 0.254478\n",
            "(Epoch 21 / 25) train acc: 0.948000; val_acc: 0.286000\n",
            "(Epoch 22 / 25) train acc: 0.954000; val_acc: 0.287000\n",
            "(Epoch 23 / 25) train acc: 0.964000; val_acc: 0.304000\n",
            "(Epoch 24 / 25) train acc: 0.972000; val_acc: 0.287000\n",
            "(Epoch 25 / 25) train acc: 0.970000; val_acc: 0.283000\n"
          ]
        }
      ],
      "source": [
        "# Train two identical nets, one with dropout and one without\n",
        "\n",
        "num_train = 500\n",
        "small_data = {\n",
        "    'X_train': data['X_train'][:num_train],\n",
        "    'y_train': data['y_train'][:num_train],\n",
        "    'X_val': data['X_val'],\n",
        "    'y_val': data['y_val'],\n",
        "}\n",
        "\n",
        "solvers = {}\n",
        "dropout_choices = [0.6, 1.0]\n",
        "for dropout in dropout_choices:\n",
        "    model = FullyConnectedNet([100, 100, 100], dropout=dropout)\n",
        "\n",
        "    solver = Solver(model, small_data,\n",
        "                    num_epochs=25, batch_size=100,\n",
        "                    update_rule='adam',\n",
        "                    optim_config={\n",
        "                      'learning_rate': 5e-4,\n",
        "                    },\n",
        "                    verbose=True, print_every=100)\n",
        "    solver.train()\n",
        "    solvers[dropout] = solver"
      ]
    },
    {
      "cell_type": "code",
      "execution_count": 8,
      "metadata": {
        "id": "rvopTStzr773",
        "colab": {
          "base_uri": "https://localhost:8080/",
          "height": 606
        },
        "outputId": "26dd8d6d-6290-479e-b25e-e33e57f112a1"
      },
      "outputs": [
        {
          "output_type": "display_data",
          "data": {
            "text/plain": [
              "<Figure size 1080x1080 with 2 Axes>"
            ],
            "image/png": "[encoded data removed]"
          },
          "metadata": {
            "needs_background": "light"
          }
        }
      ],
      "source": [
        "# Plot train and validation accuracies of the two models\n",
        "\n",
        "train_accs = []\n",
        "val_accs = []\n",
        "for dropout in dropout_choices:\n",
        "    solver = solvers[dropout]\n",
        "    train_accs.append(solver.train_acc_history[-1])\n",
        "    val_accs.append(solver.val_acc_history[-1])\n",
        "\n",
        "plt.subplot(3, 1, 1)\n",
        "for dropout in dropout_choices:\n",
        "    plt.plot(solvers[dropout].train_acc_history, 'o', label='%.2f dropout' % dropout)\n",
        "plt.title('Train accuracy')\n",
        "plt.xlabel('Epoch')\n",
        "plt.ylabel('Accuracy')\n",
        "plt.legend(ncol=2, loc='lower right')\n",
        "  \n",
        "plt.subplot(3, 1, 2)\n",
        "for dropout in dropout_choices:\n",
        "    plt.plot(solvers[dropout].val_acc_history, 'o', label='%.2f dropout' % dropout)\n",
        "plt.title('Val accuracy')\n",
        "plt.xlabel('Epoch')\n",
        "plt.ylabel('Accuracy')\n",
        "plt.legend(ncol=2, loc='lower right')\n",
        "\n",
        "plt.gcf().set_size_inches(15, 15)\n",
        "plt.show()"
      ]
    },
    {
      "cell_type": "markdown",
      "metadata": {
        "id": "c3OTDENqr774"
      },
      "source": [
        "## Question\n",
        "\n",
        "Based off the results of this experiment, is dropout performing regularization?  Explain your answer."
      ]
    },
    {
      "cell_type": "markdown",
      "metadata": {
        "id": "BzrbK4Svr774"
      },
      "source": [
        "## Answer:\n",
        "Both models reach similar validation accuracies after around 20 epochs. However, from the first graph, we see that the dropout of the orange line is set to 1.00, meaning that we keep 100% of the neurons. After epoch>20, the training accuracy is close to 1.0, and is likely to be overfitting; while for the blue line where dropout occurs, the training accuracy tends to be much lower. The dropout procedure helps eliminate sensitivity to specific weights and can make the model generalize better and reduce overfitting. We can see this regularization effect from the above results.  "
      ]
    },
    {
      "cell_type": "markdown",
      "metadata": {
        "id": "kL5B8LlTr774"
      },
      "source": [
        "##### Final part of the assignment\n",
        "\n",
        "Get over 55% validation accuracy on CIFAR-10 by using the layers you have implemented.  You will be graded according to the following equation:\n",
        "\n",
        "min(floor((X - 32%)) / 23%, 1) \n",
        "where if you get 55% or higher validation accuracy, you get full points."
      ]
    },
    {
      "cell_type": "code",
      "execution_count": 9,
      "metadata": {
        "scrolled": false,
        "id": "xE0grZhNr774",
        "colab": {
          "base_uri": "https://localhost:8080/"
        },
        "outputId": "64de5d4c-6fea-45fb-fd5c-09a2be3e02e1"
      },
      "outputs": [
        {
          "output_type": "stream",
          "name": "stdout",
          "text": [
            "(Iteration 1 / 4900) loss: 2.323078\n",
            "(Epoch 0 / 10) train acc: 0.101000; val_acc: 0.089000\n",
            "(Epoch 1 / 10) train acc: 0.452000; val_acc: 0.453000\n",
            "(Epoch 2 / 10) train acc: 0.516000; val_acc: 0.509000\n",
            "(Iteration 1001 / 4900) loss: 1.645468\n",
            "(Epoch 3 / 10) train acc: 0.557000; val_acc: 0.506000\n",
            "(Epoch 4 / 10) train acc: 0.574000; val_acc: 0.534000\n",
            "(Iteration 2001 / 4900) loss: 1.451354\n",
            "(Epoch 5 / 10) train acc: 0.602000; val_acc: 0.546000\n",
            "(Epoch 6 / 10) train acc: 0.588000; val_acc: 0.532000\n",
            "(Iteration 3001 / 4900) loss: 1.303268\n",
            "(Epoch 7 / 10) train acc: 0.595000; val_acc: 0.545000\n",
            "(Epoch 8 / 10) train acc: 0.615000; val_acc: 0.551000\n",
            "(Iteration 4001 / 4900) loss: 1.237978\n",
            "(Epoch 9 / 10) train acc: 0.603000; val_acc: 0.560000\n",
            "(Epoch 10 / 10) train acc: 0.614000; val_acc: 0.570000\n",
            "Validation accuracy: 0.57\n",
            "Test accuracy: 0.572\n"
          ]
        }
      ],
      "source": [
        "# ================================================================ #\n",
        "# YOUR CODE HERE:\n",
        "#   Implement a FC-net that achieves at least 55% validation accuracy\n",
        "#   on CIFAR-10.\n",
        "# ================================================================ #\n",
        "\n",
        "model = FullyConnectedNet(hidden_dims=[300, 300, 300], dropout=0.7, use_batchnorm=True)\n",
        "solver = Solver(model, data, update_rule='adam', optim_config={'learning_rate': 1e-4,}, lr_decay=0.95, num_epochs=10, batch_size=100, print_every=1000, verbose=True)\n",
        "solver.train()\n",
        "y_val_pred = np.argmax(model.loss(data['X_val']), axis=1)\n",
        "y_test_pred = np.argmax(model.loss(data['X_test']), axis=1)\n",
        "print('Validation accuracy:', np.mean(y_val_pred == data['y_val']))\n",
        "print('Test accuracy:', np.mean(y_test_pred == data['y_test']))\n",
        "\n",
        "# ================================================================ #\n",
        "# END YOUR CODE HERE\n",
        "# ================================================================ #\n"
      ]
    }
  ],
  "metadata": {
    "kernelspec": {
      "display_name": "Python 3",
      "language": "python",
      "name": "python3"
    },
    "language_info": {
      "codemirror_mode": {
        "name": "ipython",
        "version": 3
      },
      "file_extension": ".py",
      "mimetype": "text/x-python",
      "name": "python",
      "nbconvert_exporter": "python",
      "pygments_lexer": "ipython3",
      "version": "3.6.4"
    },
    "colab": {
      "provenance": []
    }
  },
  "nbformat": 4,
  "nbformat_minor": 0
}