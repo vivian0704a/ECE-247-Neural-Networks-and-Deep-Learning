{
  "cells": [
    {
      "cell_type": "markdown",
      "metadata": {
        "id": "Dx289ILdqMVL"
      },
      "source": [
        "## This is the softmax workbook for ECE C147/C247 Assignment #2\n",
        "\n",
        "Please follow the notebook linearly to implement a softmax classifier.\n",
        "\n",
        "Please print out the workbook entirely when completed.\n",
        "\n",
        "The goal of this workbook is to give you experience with training a softmax classifier."
      ]
    },
    {
      "cell_type": "code",
      "source": [
        "from google.colab import drive\n",
        "drive.mount('/content/drive')\n",
        "%cd  /content/drive/MyDrive/ECE247/HW2/\n",
        "!pip install -r requirements-python2.txt"
      ],
      "metadata": {
        "id": "BKda56K_qdVi"
      },
      "execution_count": null,
      "outputs": []
    },
    {
      "cell_type": "code",
      "execution_count": 2,
      "metadata": {
        "id": "YoYrM_vuqMVN"
      },
      "outputs": [],
      "source": [
        "import random\n",
        "import numpy as np\n",
        "from utils.data_utils import load_CIFAR10\n",
        "import matplotlib.pyplot as plt\n",
        "\n",
        "%matplotlib inline\n",
        "%load_ext autoreload\n",
        "%autoreload 2"
      ]
    },
    {
      "cell_type": "code",
      "execution_count": 3,
      "metadata": {
        "scrolled": true,
        "id": "TEOnVtUcqMVN",
        "colab": {
          "base_uri": "https://localhost:8080/"
        },
        "outputId": "ca652edd-912b-4ce3-ef3b-59eb0a16300f"
      },
      "outputs": [
        {
          "output_type": "stream",
          "name": "stdout",
          "text": [
            "Train data shape:  (49000, 3073)\n",
            "Train labels shape:  (49000,)\n",
            "Validation data shape:  (1000, 3073)\n",
            "Validation labels shape:  (1000,)\n",
            "Test data shape:  (1000, 3073)\n",
            "Test labels shape:  (1000,)\n",
            "dev data shape:  (500, 3073)\n",
            "dev labels shape:  (500,)\n"
          ]
        }
      ],
      "source": [
        "def get_CIFAR10_data(num_training=49000, num_validation=1000, num_test=1000, num_dev=500):\n",
        "    \"\"\"\n",
        "    Load the CIFAR-10 dataset from disk and perform preprocessing to prepare\n",
        "    it for the linear classifier. These are the same steps as we used for the\n",
        "    SVM, but condensed to a single function.  \n",
        "    \"\"\"\n",
        "    # Load the raw CIFAR-10 data\n",
        "    cifar10_dir = 'cifar-10-batches-py' # You need to update this line\n",
        "    X_train, y_train, X_test, y_test = load_CIFAR10(cifar10_dir)\n",
        "    \n",
        "    # subsample the data\n",
        "    mask = list(range(num_training, num_training + num_validation))\n",
        "    X_val = X_train[mask]\n",
        "    y_val = y_train[mask]\n",
        "    mask = list(range(num_training))\n",
        "    X_train = X_train[mask]\n",
        "    y_train = y_train[mask]\n",
        "    mask = list(range(num_test))\n",
        "    X_test = X_test[mask]\n",
        "    y_test = y_test[mask]\n",
        "    mask = np.random.choice(num_training, num_dev, replace=False)\n",
        "    X_dev = X_train[mask]\n",
        "    y_dev = y_train[mask]\n",
        "    \n",
        "    # Preprocessing: reshape the image data into rows\n",
        "    X_train = np.reshape(X_train, (X_train.shape[0], -1))\n",
        "    X_val = np.reshape(X_val, (X_val.shape[0], -1))\n",
        "    X_test = np.reshape(X_test, (X_test.shape[0], -1))\n",
        "    X_dev = np.reshape(X_dev, (X_dev.shape[0], -1))\n",
        "    \n",
        "    # Normalize the data: subtract the mean image\n",
        "    mean_image = np.mean(X_train, axis = 0)\n",
        "    X_train -= mean_image\n",
        "    X_val -= mean_image\n",
        "    X_test -= mean_image\n",
        "    X_dev -= mean_image\n",
        "    \n",
        "    # add bias dimension and transform into columns\n",
        "    X_train = np.hstack([X_train, np.ones((X_train.shape[0], 1))])\n",
        "    X_val = np.hstack([X_val, np.ones((X_val.shape[0], 1))])\n",
        "    X_test = np.hstack([X_test, np.ones((X_test.shape[0], 1))])\n",
        "    X_dev = np.hstack([X_dev, np.ones((X_dev.shape[0], 1))])\n",
        "    \n",
        "    return X_train, y_train, X_val, y_val, X_test, y_test, X_dev, y_dev\n",
        "\n",
        "\n",
        "# Invoke the above function to get our data.\n",
        "X_train, y_train, X_val, y_val, X_test, y_test, X_dev, y_dev = get_CIFAR10_data()\n",
        "print('Train data shape: ', X_train.shape)\n",
        "print('Train labels shape: ', y_train.shape)\n",
        "print('Validation data shape: ', X_val.shape)\n",
        "print('Validation labels shape: ', y_val.shape)\n",
        "print('Test data shape: ', X_test.shape)\n",
        "print('Test labels shape: ', y_test.shape)\n",
        "print('dev data shape: ', X_dev.shape)\n",
        "print('dev labels shape: ', y_dev.shape)"
      ]
    },
    {
      "cell_type": "markdown",
      "metadata": {
        "id": "eS6EDnzWqMVO"
      },
      "source": [
        "## Training a softmax classifier.\n",
        "\n",
        "The following cells will take you through building a softmax classifier.  You will implement its loss function, then subsequently train it with gradient descent.  Finally, you will choose the learning rate of gradient descent to optimize its classification performance."
      ]
    },
    {
      "cell_type": "code",
      "execution_count": 4,
      "metadata": {
        "id": "YaUuUz_AqMVO"
      },
      "outputs": [],
      "source": [
        "from nndl import Softmax"
      ]
    },
    {
      "cell_type": "code",
      "execution_count": 5,
      "metadata": {
        "id": "V0-0v9Y4qMVP"
      },
      "outputs": [],
      "source": [
        "# Declare an instance of the Softmax class.  \n",
        "# Weights are initialized to a random value.\n",
        "# Note, to keep people's first solutions consistent, we are going to use a random seed.\n",
        "\n",
        "np.random.seed(1)\n",
        "\n",
        "num_classes = len(np.unique(y_train))\n",
        "num_features = X_train.shape[1]\n",
        "\n",
        "softmax = Softmax(dims=[num_classes, num_features])"
      ]
    },
    {
      "cell_type": "markdown",
      "metadata": {
        "id": "2H1HT0vAqMVP"
      },
      "source": [
        "#### Softmax loss"
      ]
    },
    {
      "cell_type": "code",
      "execution_count": 6,
      "metadata": {
        "id": "YgL886zMqMVP"
      },
      "outputs": [],
      "source": [
        "## Implement the loss function of the softmax using a for loop over\n",
        "#  the number of examples\n",
        "\n",
        "loss = softmax.loss(X_train, y_train)"
      ]
    },
    {
      "cell_type": "code",
      "execution_count": 7,
      "metadata": {
        "id": "VcNIzYB8qMVP",
        "colab": {
          "base_uri": "https://localhost:8080/"
        },
        "outputId": "55ff4999-5d12-4d1f-9e66-c13e1f58638d"
      },
      "outputs": [
        {
          "output_type": "stream",
          "name": "stdout",
          "text": [
            "2.3277607028048966\n"
          ]
        }
      ],
      "source": [
        "print(loss)"
      ]
    },
    {
      "cell_type": "markdown",
      "metadata": {
        "id": "2rS_NPywqMVQ"
      },
      "source": [
        "## Question: \n",
        "\n",
        "You'll notice the loss returned by the softmax is about 2.3 (if implemented correctly).  Why does this make sense?"
      ]
    },
    {
      "cell_type": "markdown",
      "metadata": {
        "id": "KF_6tLXfqMVQ"
      },
      "source": [
        "## Answer:\n",
        "\n",
        "Since we randomly initialized the weights, and y is uniformly distributed, the probability of each class is expected to be 1/10 from the beginning. Taking the -log of 0.1 = -log(0.1) ~= 2.3."
      ]
    },
    {
      "cell_type": "markdown",
      "metadata": {
        "id": "_7L266daqMVQ"
      },
      "source": [
        "#### Softmax gradient"
      ]
    },
    {
      "cell_type": "code",
      "execution_count": 8,
      "metadata": {
        "scrolled": false,
        "id": "g7mQ82MaqMVQ",
        "colab": {
          "base_uri": "https://localhost:8080/"
        },
        "outputId": "7d7495da-40ed-4d25-8067-8421a883448e"
      },
      "outputs": [
        {
          "output_type": "stream",
          "name": "stdout",
          "text": [
            "numerical: -0.291649 analytic: -0.291649, relative error: 1.438459e-08\n",
            "numerical: 1.983914 analytic: 1.983914, relative error: 2.026276e-08\n",
            "numerical: 0.714910 analytic: 0.714910, relative error: 1.392048e-09\n",
            "numerical: 2.172360 analytic: 2.172359, relative error: 2.132839e-08\n",
            "numerical: 1.709823 analytic: 1.709822, relative error: 3.142569e-08\n",
            "numerical: 1.489949 analytic: 1.489949, relative error: 3.216065e-08\n",
            "numerical: -1.600688 analytic: -1.600688, relative error: 3.254568e-08\n",
            "numerical: -1.264172 analytic: -1.264172, relative error: 4.233117e-09\n",
            "numerical: 0.799702 analytic: 0.799702, relative error: 1.539822e-09\n",
            "numerical: -2.296060 analytic: -2.296060, relative error: 2.430556e-08\n"
          ]
        }
      ],
      "source": [
        "## Calculate the gradient of the softmax loss in the Softmax class.\n",
        "# For convenience, we'll write one function that computes the loss\n",
        "#   and gradient together, softmax.loss_and_grad(X, y)\n",
        "# You may copy and paste your loss code from softmax.loss() here, and then\n",
        "#   use the appropriate intermediate values to calculate the gradient.\n",
        "\n",
        "loss, grad = softmax.loss_and_grad(X_dev,y_dev)\n",
        "\n",
        "# Compare your gradient to a gradient check we wrote. \n",
        "# You should see relative gradient errors on the order of 1e-07 or less if you implemented the gradient correctly.\n",
        "softmax.grad_check_sparse(X_dev, y_dev, grad)"
      ]
    },
    {
      "cell_type": "markdown",
      "metadata": {
        "id": "w7HbzQvSqMVQ"
      },
      "source": [
        "## A vectorized version of Softmax\n",
        "\n",
        "To speed things up, we will vectorize the loss and gradient calculations.  This will be helpful for stochastic gradient descent."
      ]
    },
    {
      "cell_type": "code",
      "execution_count": 9,
      "metadata": {
        "id": "QGafMRT5qMVQ"
      },
      "outputs": [],
      "source": [
        "import time"
      ]
    },
    {
      "cell_type": "code",
      "execution_count": 10,
      "metadata": {
        "id": "4wBmL2p-qMVR",
        "colab": {
          "base_uri": "https://localhost:8080/"
        },
        "outputId": "f2b52686-81c6-42e8-e8a1-38abfc1f80ff"
      },
      "outputs": [
        {
          "output_type": "stream",
          "name": "stdout",
          "text": [
            "Normal loss / grad_norm: 2.331012332314784 / 358.1715698023177 computed in 0.26204991340637207s\n",
            "Vectorized loss / grad: 2.3310123323147818 / 358.1715698023178 computed in 0.020559072494506836s\n",
            "difference in loss / grad: 2.220446049250313e-15 /2.2980945051679077e-13 \n"
          ]
        }
      ],
      "source": [
        "## Implement softmax.fast_loss_and_grad which calculates the loss and gradient\n",
        "#    WITHOUT using any for loops.  \n",
        "\n",
        "# Standard loss and gradient\n",
        "tic = time.time()\n",
        "loss, grad = softmax.loss_and_grad(X_dev, y_dev)\n",
        "toc = time.time()\n",
        "print('Normal loss / grad_norm: {} / {} computed in {}s'.format(loss, np.linalg.norm(grad, 'fro'), toc - tic))\n",
        "\n",
        "tic = time.time()\n",
        "loss_vectorized, grad_vectorized = softmax.fast_loss_and_grad(X_dev, y_dev)\n",
        "toc = time.time()\n",
        "print('Vectorized loss / grad: {} / {} computed in {}s'.format(loss_vectorized, np.linalg.norm(grad_vectorized, 'fro'), toc - tic))\n",
        "\n",
        "# The losses should match but your vectorized implementation should be much faster.\n",
        "print('difference in loss / grad: {} /{} '.format(loss - loss_vectorized, np.linalg.norm(grad - grad_vectorized)))\n",
        "\n",
        "# You should notice a speedup with the same output."
      ]
    },
    {
      "cell_type": "markdown",
      "metadata": {
        "id": "CqlLPv93qMVR"
      },
      "source": [
        "## Stochastic gradient descent\n",
        "\n",
        "We now implement stochastic gradient descent.  This uses the same principles of gradient descent we discussed in class, however, it calculates the gradient by only using examples from a subset of the training set (so each gradient calculation is faster)."
      ]
    },
    {
      "cell_type": "code",
      "execution_count": 11,
      "metadata": {
        "scrolled": false,
        "id": "s1l7RMIMqMVR",
        "colab": {
          "base_uri": "https://localhost:8080/",
          "height": 557
        },
        "outputId": "6dd152d8-f3c6-4ec2-a1d3-9d9201a65c65"
      },
      "outputs": [
        {
          "output_type": "stream",
          "name": "stdout",
          "text": [
            "iteration 0 / 1500: loss 2.336592660663754\n",
            "iteration 100 / 1500: loss 2.0557222613850827\n",
            "iteration 200 / 1500: loss 2.035774512066282\n",
            "iteration 300 / 1500: loss 1.9813348165609885\n",
            "iteration 400 / 1500: loss 1.9583142443981612\n",
            "iteration 500 / 1500: loss 1.8622653073541355\n",
            "iteration 600 / 1500: loss 1.8532611454359382\n",
            "iteration 700 / 1500: loss 1.8353062223725825\n",
            "iteration 800 / 1500: loss 1.829389246882764\n",
            "iteration 900 / 1500: loss 1.899215853035748\n",
            "iteration 1000 / 1500: loss 1.9783503540252299\n",
            "iteration 1100 / 1500: loss 1.8470797913532635\n",
            "iteration 1200 / 1500: loss 1.8411450268664085\n",
            "iteration 1300 / 1500: loss 1.79104024957921\n",
            "iteration 1400 / 1500: loss 1.870580302938226\n",
            "That took 9.331229448318481s\n"
          ]
        },
        {
          "output_type": "display_data",
          "data": {
            "text/plain": [
              "<Figure size 432x288 with 1 Axes>"
            ],
            "image/png": "[encoded data removed]"
          },
          "metadata": {
            "needs_background": "light"
          }
        }
      ],
      "source": [
        "# Implement softmax.train() by filling in the code to extract a batch of data\n",
        "# and perform the gradient step.\n",
        "import time\n",
        "\n",
        "\n",
        "tic = time.time()\n",
        "loss_hist = softmax.train(X_train, y_train, learning_rate=1e-7,\n",
        "                      num_iters=1500, verbose=True)\n",
        "toc = time.time()\n",
        "print('That took {}s'.format(toc - tic))\n",
        "\n",
        "plt.plot(loss_hist)\n",
        "plt.xlabel('Iteration number')\n",
        "plt.ylabel('Loss value')\n",
        "plt.show()"
      ]
    },
    {
      "cell_type": "markdown",
      "metadata": {
        "id": "TKd-QRz3qMVR"
      },
      "source": [
        "### Evaluate the performance of the trained softmax classifier on the validation data."
      ]
    },
    {
      "cell_type": "code",
      "execution_count": 12,
      "metadata": {
        "id": "xMr-xC3XqMVR",
        "colab": {
          "base_uri": "https://localhost:8080/"
        },
        "outputId": "d3805227-b65a-4ddd-a9ee-f1226ea79b14"
      },
      "outputs": [
        {
          "output_type": "stream",
          "name": "stdout",
          "text": [
            "training accuracy: 0.3811428571428571\n",
            "validation accuracy: 0.398\n"
          ]
        }
      ],
      "source": [
        "## Implement softmax.predict() and use it to compute the training and testing error.\n",
        "\n",
        "y_train_pred = softmax.predict(X_train)\n",
        "print('training accuracy: {}'.format(np.mean(np.equal(y_train,y_train_pred), )))\n",
        "y_val_pred = softmax.predict(X_val)\n",
        "print('validation accuracy: {}'.format(np.mean(np.equal(y_val, y_val_pred)), ))"
      ]
    },
    {
      "cell_type": "markdown",
      "metadata": {
        "id": "fftXAVyhqMVR"
      },
      "source": [
        "## Optimize the softmax classifier"
      ]
    },
    {
      "cell_type": "code",
      "execution_count": 13,
      "metadata": {
        "id": "dpdzM57nqMVS",
        "colab": {
          "base_uri": "https://localhost:8080/"
        },
        "outputId": "ca391a11-9e39-4d35-d417-a56d35fea432"
      },
      "outputs": [
        {
          "output_type": "execute_result",
          "data": {
            "text/plain": [
              "2.220446049250313e-16"
            ]
          },
          "metadata": {},
          "execution_count": 13
        }
      ],
      "source": [
        "np.finfo(float).eps"
      ]
    },
    {
      "cell_type": "code",
      "execution_count": 15,
      "metadata": {
        "scrolled": false,
        "id": "-3XBxcuhqMVS",
        "colab": {
          "base_uri": "https://localhost:8080/"
        },
        "outputId": "d85c1bea-52ee-4ca3-c2da-0fc6befa86ab"
      },
      "outputs": [
        {
          "output_type": "stream",
          "name": "stdout",
          "text": [
            "Learning rate: 1e-06\n",
            "Validation Accuracy: 0.418\n",
            "Test Set Error Rate: 0.607\n",
            "----------------------------------\n",
            "Learning rate: 1e-05\n",
            "Validation Accuracy: 0.334\n",
            "Test Set Error Rate: 0.679\n",
            "----------------------------------\n",
            "Learning rate: 0.0001\n",
            "Validation Accuracy: 0.229\n",
            "Test Set Error Rate: 0.78\n",
            "----------------------------------\n",
            "Learning rate: 0.001\n",
            "Validation Accuracy: 0.087\n",
            "Test Set Error Rate: 0.897\n",
            "----------------------------------\n",
            "Learning rate: 0.01\n",
            "Validation Accuracy: 0.087\n",
            "Test Set Error Rate: 0.897\n",
            "----------------------------------\n",
            "Learning rate: 0.5\n",
            "Validation Accuracy: 0.087\n",
            "Test Set Error Rate: 0.897\n",
            "----------------------------------\n",
            "Learning rate: 0.1\n",
            "Validation Accuracy: 0.087\n",
            "Test Set Error Rate: 0.897\n",
            "----------------------------------\n",
            "Learning rate: 1\n",
            "Validation Accuracy: 0.087\n",
            "Test Set Error Rate: 0.897\n",
            "----------------------------------\n"
          ]
        }
      ],
      "source": [
        "# ================================================================ #\n",
        "# YOUR CODE HERE:\n",
        "#   Train the Softmax classifier with different learning rates and \n",
        "#     evaluate on the validation data.\n",
        "#   Report:\n",
        "#     - The best learning rate of the ones you tested.  \n",
        "#     - The best validation accuracy corresponding to the best validation error.\n",
        "#\n",
        "#   Select the SVM that achieved the best validation error and report\n",
        "#     its error rate on the test set.\n",
        "# ================================================================ #\n",
        "lr=[1e-6, 1e-5, 1e-4, 1e-3, 1e-2, 0.5, 1e-1, 1]\n",
        "for i in lr:\n",
        "  softmax.train(X_train, y_train, learning_rate=i, num_iters=1000, verbose=False)\n",
        "  yvalp=softmax.predict(X_val) \n",
        "  accuracy=np.mean([i==j for i,j in zip(yvalp, y_val)])\n",
        "  ytestp=softmax.predict(X_test)\n",
        "  err=1-np.mean([i==j for i,j in zip(ytestp, y_test)])\n",
        "  print(\"Learning rate:\", i)\n",
        "  print(\"Validation Accuracy:\", accuracy)\n",
        "  print(\"Test Set Error Rate:\", err)\n",
        "  print(\"----------------------------------\") \n",
        "\n",
        "# ================================================================ #\n",
        "# END YOUR CODE HERE\n",
        "# ================================================================ #\n"
      ]
    },
    {
      "cell_type": "markdown",
      "source": [
        "The best learning rate is 1e-06, with validation accuracy of 0.418, and the corresponding validation error is: 0.582. The error rate on test set is 0.607."
      ],
      "metadata": {
        "id": "1IB28X6dxQqo"
      }
    }
  ],
  "metadata": {
    "kernelspec": {
      "display_name": "Python 3 (ipykernel)",
      "language": "python",
      "name": "python3"
    },
    "language_info": {
      "codemirror_mode": {
        "name": "ipython",
        "version": 3
      },
      "file_extension": ".py",
      "mimetype": "text/x-python",
      "name": "python",
      "nbconvert_exporter": "python",
      "pygments_lexer": "ipython3",
      "version": "3.8.8"
    },
    "colab": {
      "provenance": []
    }
  },
  "nbformat": 4,
  "nbformat_minor": 0
}