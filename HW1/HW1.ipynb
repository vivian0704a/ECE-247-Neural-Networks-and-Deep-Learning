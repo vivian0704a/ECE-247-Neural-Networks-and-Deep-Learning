{
  "cells": [
    {
      "cell_type": "markdown",
      "metadata": {
        "id": "SaMmBjiOlSyf"
      },
      "source": [
        "## Linear regression workbook\n",
        "\n",
        "This workbook will walk you through a linear regression example. It will provide familiarity with Jupyter Notebook and Python.  Please print (to pdf) a completed version of this workbook for submission with HW #1.\n",
        "\n",
        "ECE C147/C247, Winter Quarter 2023, Prof. J.C. Kao, TAs: T.M, P.L, R.G, K.K, N.V, S.R, S.P, M.E"
      ]
    },
    {
      "cell_type": "code",
      "source": [
        "!pip install -r requirements.txt"
      ],
      "metadata": {
        "id": "148uL_l_l9Lj"
      },
      "execution_count": null,
      "outputs": []
    },
    {
      "cell_type": "code",
      "execution_count": null,
      "metadata": {
        "collapsed": true,
        "id": "50O4riZzlSyh"
      },
      "outputs": [],
      "source": [
        "import numpy as np\n",
        "import matplotlib.pyplot as plt\n",
        "\n",
        "#allows matlab plots to be generated in line\n",
        "%matplotlib inline"
      ]
    },
    {
      "cell_type": "markdown",
      "metadata": {
        "id": "ZkDz5QvllSyi"
      },
      "source": [
        "### Data generation\n",
        "\n",
        "For any example, we first have to generate some appropriate data to use. The following cell generates data according to the model: $y = x - 2x^2 + x^3 + \\epsilon$"
      ]
    },
    {
      "cell_type": "code",
      "execution_count": null,
      "metadata": {
        "colab": {
          "base_uri": "https://localhost:8080/",
          "height": 296
        },
        "id": "IBNFcD7plSyj",
        "outputId": "ac6a3a12-fb86-4772-924a-6d045e8b2a91"
      },
      "outputs": [
        {
          "output_type": "execute_result",
          "data": {
            "text/plain": [
              "Text(0, 0.5, '$y$')"
            ]
          },
          "metadata": {},
          "execution_count": 3
        },
        {
          "output_type": "display_data",
          "data": {
            "text/plain": [
              "<Figure size 432x288 with 1 Axes>"
            ],
            "image/png": "[encoded data removed]"
          },
          "metadata": {
            "needs_background": "light"
          }
        }
      ],
      "source": [
        "np.random.seed(0)  # Sets the random seed.\n",
        "num_train = 200     # Number of training data points\n",
        "\n",
        "# Generate the training data\n",
        "x = np.random.uniform(low=0, high=1, size=(num_train,))\n",
        "y = x - 2*x**2 + x**3 + np.random.normal(loc=0, scale=0.03, size=(num_train,))\n",
        "f = plt.figure()\n",
        "ax = f.gca()\n",
        "ax.plot(x, y, '.')\n",
        "ax.set_xlabel('$x$')\n",
        "ax.set_ylabel('$y$')"
      ]
    },
    {
      "cell_type": "markdown",
      "metadata": {
        "id": "eQhY-r0jlSyj"
      },
      "source": [
        "### QUESTIONS:\n",
        "\n",
        "Write your answers in the markdown cell below this one:\n",
        "\n",
        "(1) What is the generating distribution of $x$?\n",
        "\n",
        "(2) What is the distribution of the additive noise $\\epsilon$?"
      ]
    },
    {
      "cell_type": "markdown",
      "metadata": {
        "id": "59mKLVg8lSyj"
      },
      "source": [
        "### ANSWERS:\n",
        "\n",
        "(1) Uniform distribution, with lower boundary 0 and upper boundary 1.\n",
        "\n",
        "(2) Normal distribution, with mean=0 and standard deviation = 0.03"
      ]
    },
    {
      "cell_type": "markdown",
      "metadata": {
        "id": "9pnof9xwlSyj"
      },
      "source": [
        "### Fitting data to the model (5 points)\n",
        "\n",
        "Here, we'll do linear regression to fit the parameters of a model $y = ax + b$."
      ]
    },
    {
      "cell_type": "code",
      "execution_count": null,
      "metadata": {
        "collapsed": true,
        "id": "U4ev-gO5lSyk"
      },
      "outputs": [],
      "source": [
        "# xhat = (x, 1)\n",
        "xhat = np.vstack((x, np.ones_like(x)))\n",
        "\n",
        "# ==================== #\n",
        "# START YOUR CODE HERE #\n",
        "# ==================== #\n",
        "# GOAL: create a variable theta; theta is a numpy array whose elements are [a, b]\n",
        "\n",
        "#theta=(X.T.dot(X))^(-1).dot(X.T.dot(Y))\n",
        "#transpose xhat so that each row is in the form of (x, 1)\n",
        "theta = np.linalg.inv(xhat.dot(xhat.T)).dot(xhat.dot(y))\n",
        "\n",
        "# ================== #\n",
        "# END YOUR CODE HERE #\n",
        "# ================== #"
      ]
    },
    {
      "cell_type": "code",
      "execution_count": null,
      "metadata": {
        "colab": {
          "base_uri": "https://localhost:8080/",
          "height": 296
        },
        "id": "ubEyJxcmlSyk",
        "outputId": "1fa69254-b873-45e2-d064-8ee009205227"
      },
      "outputs": [
        {
          "output_type": "execute_result",
          "data": {
            "text/plain": [
              "[<matplotlib.lines.Line2D at 0x7f6f403db790>]"
            ]
          },
          "metadata": {},
          "execution_count": 8
        },
        {
          "output_type": "display_data",
          "data": {
            "text/plain": [
              "<Figure size 432x288 with 1 Axes>"
            ],
            "image/png": "[encoded data removed]"
          },
          "metadata": {
            "needs_background": "light"
          }
        }
      ],
      "source": [
        "# Plot the data and your model fit.\n",
        "f = plt.figure()\n",
        "ax = f.gca()\n",
        "ax.plot(x, y, '.')\n",
        "ax.set_xlabel('$x$')\n",
        "ax.set_ylabel('$y$')\n",
        "\n",
        "# Plot the regression line\n",
        "xs = np.linspace(min(x), max(x),50)\n",
        "xs = np.vstack((xs, np.ones_like(xs)))\n",
        "plt.plot(xs[0,:], theta.dot(xs))"
      ]
    },
    {
      "cell_type": "markdown",
      "metadata": {
        "id": "3ugwnyy7lSyk"
      },
      "source": [
        "### QUESTIONS\n",
        "\n",
        "(1) Does the linear model under- or overfit the data?\n",
        "\n",
        "(2) How to change the model to improve the fitting?"
      ]
    },
    {
      "cell_type": "markdown",
      "metadata": {
        "id": "1w9moLZ1lSyl"
      },
      "source": [
        "### ANSWERS\n",
        "\n",
        "(1) Underfit.\n",
        "\n",
        "(2) Increase the orders of the polynomial function of the model."
      ]
    },
    {
      "cell_type": "markdown",
      "metadata": {
        "id": "umqJVOeflSyl"
      },
      "source": [
        "### Fitting data to the model (5 points)\n",
        "\n",
        "Here, we'll now do regression to polynomial models of orders 1 to 5.  Note, the order 1 model is the linear model you prior fit."
      ]
    },
    {
      "cell_type": "code",
      "execution_count": null,
      "metadata": {
        "collapsed": true,
        "id": "rYWuxwNvlSyl"
      },
      "outputs": [],
      "source": [
        "\n",
        "N = 5\n",
        "xhats = []\n",
        "thetas = []\n",
        "\n",
        "# ==================== #\n",
        "# START YOUR CODE HERE #\n",
        "# ==================== #\n",
        "\n",
        "# GOAL: create a variable thetas.\n",
        "# thetas is a list, where theta[i] are the model parameters for the polynomial fit of order i+1.\n",
        "#   i.e., thetas[0] is equivalent to theta above.\n",
        "#   i.e., thetas[1] should be a length 3 np.array with the coefficients of the x^2, x, and 1 respectively.\n",
        "#   ... etc.\n",
        "\n",
        "for i in range(1, N+1):\n",
        "  xhat=np.ones_like(x)\n",
        "  for j in range(1, i+1):\n",
        "    xhat=np.vstack((x**j, xhat))\n",
        "  xhats.append(xhat)\n",
        "  theta = np.linalg.inv(xhat.dot(xhat.T)).dot(xhat.dot(y))\n",
        "  thetas.append(theta)\n",
        "\n",
        "# ================== #\n",
        "# END YOUR CODE HERE #\n",
        "# ================== #"
      ]
    },
    {
      "cell_type": "code",
      "execution_count": null,
      "metadata": {
        "colab": {
          "base_uri": "https://localhost:8080/",
          "height": 279
        },
        "id": "8nrJ5AUllSym",
        "outputId": "9d1b50da-8065-49ef-c1a2-f9413f2540e9"
      },
      "outputs": [
        {
          "output_type": "display_data",
          "data": {
            "text/plain": [
              "<Figure size 432x288 with 1 Axes>"
            ],
            "image/png": "[encoded data removed]"
          },
          "metadata": {
            "needs_background": "light"
          }
        }
      ],
      "source": [
        "# Plot the data\n",
        "f = plt.figure()\n",
        "ax = f.gca()\n",
        "ax.plot(x, y, '.')\n",
        "ax.set_xlabel('$x$')\n",
        "ax.set_ylabel('$y$')\n",
        "\n",
        "# Plot the regression lines\n",
        "plot_xs = []\n",
        "for i in np.arange(N):\n",
        "    if i == 0:\n",
        "        plot_x = np.vstack((np.linspace(min(x), max(x),50), np.ones(50)))\n",
        "    else:\n",
        "        plot_x = np.vstack((plot_x[-2]**(i+1), plot_x))\n",
        "    plot_xs.append(plot_x)\n",
        "\n",
        "for i in np.arange(N):\n",
        "    ax.plot(plot_xs[i][-2,:], thetas[i].dot(plot_xs[i]))\n",
        "\n",
        "labels = ['data']\n",
        "[labels.append('n={}'.format(i+1)) for i in np.arange(N)]\n",
        "bbox_to_anchor=(1.3, 1)\n",
        "lgd = ax.legend(labels, bbox_to_anchor=bbox_to_anchor)"
      ]
    },
    {
      "cell_type": "markdown",
      "metadata": {
        "id": "wf1UcythlSym"
      },
      "source": [
        "### Calculating the training error (5 points)\n",
        "\n",
        "Here, we'll now calculate the training error of polynomial models of orders 1 to 5."
      ]
    },
    {
      "cell_type": "code",
      "execution_count": null,
      "metadata": {
        "colab": {
          "base_uri": "https://localhost:8080/"
        },
        "id": "4K0phr2SlSym",
        "outputId": "d7f0f825-069c-4e69-f23b-e010d4f3b7e1"
      },
      "outputs": [
        {
          "output_type": "stream",
          "name": "stdout",
          "text": [
            "Training errors are: \n",
            " [0.2379961088362701, 0.1092492220926853, 0.08169603801105374, 0.08165353735296976, 0.08161479195525297]\n"
          ]
        }
      ],
      "source": [
        "training_errors = []\n",
        "\n",
        "# ==================== #\n",
        "# START YOUR CODE HERE #\n",
        "# ==================== #\n",
        "\n",
        "# GOAL: create a variable training_errors, a list of 5 elements,\n",
        "# where training_errors[i] are the training loss for the polynomial fit of order i+1.\n",
        "\n",
        "for i, j in zip(xhats, thetas):\n",
        "  error=(0.5*(y-i.T.dot(j))**2).sum()\n",
        "  training_errors.append(error)\n",
        "\n",
        "# ================== #\n",
        "# END YOUR CODE HERE #\n",
        "# ================== #\n",
        "\n",
        "print ('Training errors are: \\n', training_errors)"
      ]
    },
    {
      "cell_type": "code",
      "source": [
        "min(training_errors)"
      ],
      "metadata": {
        "colab": {
          "base_uri": "https://localhost:8080/"
        },
        "id": "EL-AuEK9CXUd",
        "outputId": "8dc35b33-0094-4473-a473-22497023abad"
      },
      "execution_count": null,
      "outputs": [
        {
          "output_type": "execute_result",
          "data": {
            "text/plain": [
              "0.08161479195525297"
            ]
          },
          "metadata": {},
          "execution_count": 12
        }
      ]
    },
    {
      "cell_type": "markdown",
      "metadata": {
        "id": "RtK0Pbq2lSym"
      },
      "source": [
        "### QUESTIONS\n",
        "\n",
        "(1) What polynomial has the best training error?\n",
        "\n",
        "(2) Why is this expected?"
      ]
    },
    {
      "cell_type": "markdown",
      "metadata": {
        "id": "2Ruw4ivAlSym"
      },
      "source": [
        "### ANSWERS\n",
        "\n",
        "(1) The polynomial with order 5 has the smallest training error.\n",
        "\n",
        "(2) For higher order polynomials, there are more parameters allowed to be adjusted, and can make the the data fit better than lower order polynomials."
      ]
    },
    {
      "cell_type": "markdown",
      "metadata": {
        "id": "Fe9XjjmKlSyn"
      },
      "source": [
        "### Generating new samples and testing error (5 points)\n",
        "\n",
        "Here, we'll now generate new samples and calculate testing error of polynomial models of orders 1 to 5."
      ]
    },
    {
      "cell_type": "code",
      "execution_count": null,
      "metadata": {
        "colab": {
          "base_uri": "https://localhost:8080/",
          "height": 296
        },
        "id": "GM87_D5xlSyn",
        "outputId": "2fb7b1ba-a2da-41cb-b4d9-95f2307c27d3"
      },
      "outputs": [
        {
          "output_type": "execute_result",
          "data": {
            "text/plain": [
              "Text(0, 0.5, '$y$')"
            ]
          },
          "metadata": {},
          "execution_count": 13
        },
        {
          "output_type": "display_data",
          "data": {
            "text/plain": [
              "<Figure size 432x288 with 1 Axes>"
            ],
            "image/png": "[encoded data removed]"
          },
          "metadata": {
            "needs_background": "light"
          }
        }
      ],
      "source": [
        "x = np.random.uniform(low=1, high=2, size=(num_train,))\n",
        "y = x - 2*x**2 + x**3 + np.random.normal(loc=0, scale=0.03, size=(num_train,))\n",
        "f = plt.figure()\n",
        "ax = f.gca()\n",
        "ax.plot(x, y, '.')\n",
        "ax.set_xlabel('$x$')\n",
        "ax.set_ylabel('$y$')"
      ]
    },
    {
      "cell_type": "code",
      "execution_count": null,
      "metadata": {
        "collapsed": true,
        "id": "Cdaye1nElSyn"
      },
      "outputs": [],
      "source": [
        "xhats = []\n",
        "for i in np.arange(N):\n",
        "    if i == 0:\n",
        "        xhat = np.vstack((x, np.ones_like(x)))\n",
        "        plot_x = np.vstack((np.linspace(min(x), max(x),50), np.ones(50)))\n",
        "    else:\n",
        "        xhat = np.vstack((x**(i+1), xhat))\n",
        "        plot_x = np.vstack((plot_x[-2]**(i+1), plot_x))\n",
        "\n",
        "    xhats.append(xhat)"
      ]
    },
    {
      "cell_type": "code",
      "execution_count": null,
      "metadata": {
        "colab": {
          "base_uri": "https://localhost:8080/",
          "height": 279
        },
        "id": "84fFRyWnlSyn",
        "outputId": "40165adf-1c4f-419b-98c3-f988d5ad5c3f"
      },
      "outputs": [
        {
          "output_type": "display_data",
          "data": {
            "text/plain": [
              "<Figure size 432x288 with 1 Axes>"
            ],
            "image/png": "[encoded data removed]"
          },
          "metadata": {
            "needs_background": "light"
          }
        }
      ],
      "source": [
        "# Plot the data\n",
        "f = plt.figure()\n",
        "ax = f.gca()\n",
        "ax.plot(x, y, '.')\n",
        "ax.set_xlabel('$x$')\n",
        "ax.set_ylabel('$y$')\n",
        "\n",
        "# Plot the regression lines\n",
        "plot_xs = []\n",
        "for i in np.arange(N):\n",
        "    if i == 0:\n",
        "        plot_x = np.vstack((np.linspace(min(x), max(x),50), np.ones(50)))\n",
        "    else:\n",
        "        plot_x = np.vstack((plot_x[-2]**(i+1), plot_x))\n",
        "    plot_xs.append(plot_x)\n",
        "\n",
        "for i in np.arange(N):\n",
        "    ax.plot(plot_xs[i][-2,:], thetas[i].dot(plot_xs[i]))\n",
        "\n",
        "labels = ['data']\n",
        "[labels.append('n={}'.format(i+1)) for i in np.arange(N)]\n",
        "bbox_to_anchor=(1.3, 1)\n",
        "lgd = ax.legend(labels, bbox_to_anchor=bbox_to_anchor)"
      ]
    },
    {
      "cell_type": "code",
      "execution_count": null,
      "metadata": {
        "colab": {
          "base_uri": "https://localhost:8080/"
        },
        "id": "XbGA7wlOlSyn",
        "outputId": "a63c458c-e0e9-4584-b2c0-6b84aefa731a"
      },
      "outputs": [
        {
          "output_type": "stream",
          "name": "stdout",
          "text": [
            "Testing errors are: \n",
            " [80.86165184550586, 213.19192445057908, 3.1256971084083736, 1.1870765211496228, 214.91021747012795]\n"
          ]
        }
      ],
      "source": [
        "testing_errors = []\n",
        "\n",
        "# ==================== #\n",
        "# START YOUR CODE HERE #\n",
        "# ==================== #\n",
        "\n",
        "# GOAL: create a variable testing_errors, a list of 5 elements,\n",
        "# where testing_errors[i] are the testing loss for the polynomial fit of order i+1.\n",
        "for i, j in zip(xhats, thetas):\n",
        "  error=(0.5*(y-i.T.dot(j))**2).sum()\n",
        "  testing_errors.append(error)\n",
        "\n",
        "# ================== #\n",
        "# END YOUR CODE HERE #\n",
        "# ================== #\n",
        "\n",
        "print ('Testing errors are: \\n', testing_errors)"
      ]
    },
    {
      "cell_type": "markdown",
      "metadata": {
        "id": "ikMIBBpUlSyo"
      },
      "source": [
        "### QUESTIONS\n",
        "\n",
        "(1) What polynomial has the best testing error?\n",
        "\n",
        "(2) Why polynomial models of orders 5 does not generalize well?"
      ]
    },
    {
      "cell_type": "markdown",
      "metadata": {
        "id": "eJ7oXe74lSyo"
      },
      "source": [
        "### ANSWERS\n",
        "\n",
        "(1) Polynomial model of orders 4 has the best training error.\n",
        "\n",
        "(2) The model tries to fit the training data too well, including outliers and errors, which will affect the model performance. If we input new testing data, the predicted values might be biased and result in a bigger testing error."
      ]
    },
    {
      "cell_type": "code",
      "execution_count": null,
      "metadata": {
        "collapsed": true,
        "id": "DRxDQZVklSyo"
      },
      "outputs": [],
      "source": []
    }
  ],
  "metadata": {
    "kernelspec": {
      "display_name": "Python 2",
      "language": "python",
      "name": "python2"
    },
    "language_info": {
      "codemirror_mode": {
        "name": "ipython",
        "version": 2
      },
      "file_extension": ".py",
      "mimetype": "text/x-python",
      "name": "python",
      "nbconvert_exporter": "python",
      "pygments_lexer": "ipython2",
      "version": "2.7.13"
    },
    "colab": {
      "provenance": []
    }
  },
  "nbformat": 4,
  "nbformat_minor": 0
}