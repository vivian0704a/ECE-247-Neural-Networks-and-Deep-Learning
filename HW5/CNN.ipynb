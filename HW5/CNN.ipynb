{
  "cells": [
    {
      "cell_type": "markdown",
      "metadata": {
        "id": "vVnLpyFGGCle"
      },
      "source": [
        "# Convolutional neural networks\n",
        "\n",
        "In this notebook, we'll put together our convolutional layers to implement a 3-layer CNN.  Then, we'll ask you to implement a CNN that can achieve > 65% validation error on CIFAR-10.\n",
        "\n",
        "If you have not completed the Spatial BatchNorm Notebook, please see the following description from that notebook:\n",
        "\n",
        "Please copy and paste your prior implemented code from HW #4 to start this assignment.  If you did not correctly implement the layers in HW #4, you may collaborate with a classmate to use their layer implementations from HW #4.  You may also visit TA or Prof OH to correct your implementation.  \n",
        "\n",
        "You'll want to copy and paste from HW #4:\n",
        "    - layers.py for your FC network layers, as well as batchnorm and dropout.\n",
        "    - layer_utils.py for your combined FC network layers.\n",
        "    - optim.py for your optimizers.\n",
        "\n",
        "Be sure to place these in the `nndl/` directory so they're imported correctly.  Note, as announced in class, we will not be releasing our solutions."
      ]
    },
    {
      "cell_type": "code",
      "execution_count": null,
      "metadata": {
        "colab": {
          "base_uri": "https://localhost:8080/"
        },
        "id": "dJUaCsltGWAV",
        "outputId": "0c63b4cf-57ab-4589-b3d0-b1b8d79a0c2f"
      },
      "outputs": [],
      "source": [
        "from google.colab import drive\n",
        "drive.mount('/content/drive')\n",
        "%cd  /content/drive/MyDrive/ECE247/HW5/\n",
        "!pip install -r requirements-python2.txt"
      ]
    },
    {
      "cell_type": "code",
      "execution_count": 2,
      "metadata": {
        "id": "Z-B1CWhkGClf"
      },
      "outputs": [],
      "source": [
        "# As usual, a bit of setup\n",
        "\n",
        "import numpy as np\n",
        "import matplotlib.pyplot as plt\n",
        "from nndl.cnn import *\n",
        "from utils.data_utils import get_CIFAR10_data\n",
        "from utils.gradient_check import eval_numerical_gradient_array, eval_numerical_gradient\n",
        "from nndl.layers import *\n",
        "from nndl.conv_layers import *\n",
        "from utils.fast_layers import *\n",
        "from utils.solver import Solver\n",
        "\n",
        "%matplotlib inline\n",
        "plt.rcParams['figure.figsize'] = (10.0, 8.0) # set default size of plots\n",
        "plt.rcParams['image.interpolation'] = 'nearest'\n",
        "plt.rcParams['image.cmap'] = 'gray'\n",
        "\n",
        "# for auto-reloading external modules\n",
        "# see http://stackoverflow.com/questions/1907993/autoreload-of-modules-in-ipython\n",
        "%load_ext autoreload\n",
        "%autoreload 2\n",
        "\n",
        "def rel_error(x, y):\n",
        "  \"\"\" returns relative error \"\"\"\n",
        "  return np.max(np.abs(x - y) / (np.maximum(1e-8, np.abs(x) + np.abs(y))))"
      ]
    },
    {
      "cell_type": "code",
      "execution_count": 3,
      "metadata": {
        "colab": {
          "base_uri": "https://localhost:8080/"
        },
        "id": "YT02rZA2GClg",
        "outputId": "3e00900a-db14-4084-d2f7-f81d01e0abb9"
      },
      "outputs": [
        {
          "name": "stdout",
          "output_type": "stream",
          "text": [
            "X_train: (49000, 3, 32, 32) \n",
            "y_train: (49000,) \n",
            "X_val: (1000, 3, 32, 32) \n",
            "y_val: (1000,) \n",
            "X_test: (1000, 3, 32, 32) \n",
            "y_test: (1000,) \n"
          ]
        }
      ],
      "source": [
        "# Load the (preprocessed) CIFAR10 data.\n",
        "\n",
        "data = get_CIFAR10_data()\n",
        "for k in data.keys():\n",
        "  print('{}: {} '.format(k, data[k].shape))"
      ]
    },
    {
      "cell_type": "markdown",
      "metadata": {
        "id": "wQnuytPmGClh"
      },
      "source": [
        "## Three layer CNN\n",
        "\n",
        "In this notebook, you will implement a three layer CNN.  The `ThreeLayerConvNet` class is in `nndl/cnn.py`.  You'll need to modify that code for this section, including the initialization, as well as the calculation of the loss and gradients.  You should be able to use the building blocks you have either earlier coded or that we have provided.  Be sure to use the fast layers.\n",
        "\n",
        "The architecture of this CNN will be:\n",
        "\n",
        "conv - relu - 2x2 max pool - affine - relu - affine - softmax\n",
        "\n",
        "We won't use batchnorm yet.  You've also done enough of these to know how to debug; use the cells below.\n",
        "\n",
        "Note: As we are implementing several layers CNN networks. The gradient error can be expected for the `eval_numerical_gradient()` function. If your `W1 max relative error` and `W2 max relative error` are around or below 0.01, they should be acceptable. Other errors should be less than 1e-5. "
      ]
    },
    {
      "cell_type": "code",
      "execution_count": 7,
      "metadata": {
        "colab": {
          "base_uri": "https://localhost:8080/"
        },
        "id": "WBb9cFgqGClh",
        "outputId": "1fe3c44c-e34a-4ae1-eb0f-f5509e52cac9"
      },
      "outputs": [
        {
          "name": "stdout",
          "output_type": "stream",
          "text": [
            "W1 max relative error: 0.0015589014824673097\n",
            "W2 max relative error: 0.00447904770507391\n",
            "W3 max relative error: 1.7433883497008104e-05\n",
            "b1 max relative error: 0.0007808294390934916\n",
            "b2 max relative error: 3.872809051635961e-07\n",
            "b3 max relative error: 1.3207175791644847e-09\n"
          ]
        }
      ],
      "source": [
        "num_inputs = 2\n",
        "input_dim = (3, 16, 16)\n",
        "reg = 0.0\n",
        "num_classes = 10\n",
        "X = np.random.randn(num_inputs, *input_dim)\n",
        "y = np.random.randint(num_classes, size=num_inputs)\n",
        "\n",
        "model = ThreeLayerConvNet(num_filters=3, filter_size=3,\n",
        "                          input_dim=input_dim, hidden_dim=7,\n",
        "                          dtype=np.float64)\n",
        "loss, grads = model.loss(X, y)\n",
        "for param_name in sorted(grads):\n",
        "    f = lambda _: model.loss(X, y)[0]\n",
        "    param_grad_num = eval_numerical_gradient(f, model.params[param_name], verbose=False, h=1e-6)\n",
        "    e = rel_error(param_grad_num, grads[param_name])\n",
        "    print('{} max relative error: {}'.format(param_name, rel_error(param_grad_num, grads[param_name])))"
      ]
    },
    {
      "cell_type": "markdown",
      "metadata": {
        "id": "n_OLiZlFGClh"
      },
      "source": [
        "### Overfit small dataset\n",
        "\n",
        "To check your CNN implementation, let's overfit a small dataset."
      ]
    },
    {
      "cell_type": "code",
      "execution_count": 8,
      "metadata": {
        "colab": {
          "base_uri": "https://localhost:8080/"
        },
        "id": "BFjMp6OzGCli",
        "outputId": "35bd43dc-9a4a-4849-ed24-322999d143cd"
      },
      "outputs": [
        {
          "name": "stdout",
          "output_type": "stream",
          "text": [
            "(Iteration 1 / 20) loss: 2.330726\n",
            "(Epoch 0 / 10) train acc: 0.280000; val_acc: 0.155000\n",
            "(Iteration 2 / 20) loss: 2.598763\n",
            "(Epoch 1 / 10) train acc: 0.220000; val_acc: 0.102000\n",
            "(Iteration 3 / 20) loss: 4.713733\n",
            "(Iteration 4 / 20) loss: 2.631456\n",
            "(Epoch 2 / 10) train acc: 0.330000; val_acc: 0.126000\n",
            "(Iteration 5 / 20) loss: 2.233102\n",
            "(Iteration 6 / 20) loss: 2.349624\n",
            "(Epoch 3 / 10) train acc: 0.340000; val_acc: 0.150000\n",
            "(Iteration 7 / 20) loss: 1.991603\n",
            "(Iteration 8 / 20) loss: 1.664904\n",
            "(Epoch 4 / 10) train acc: 0.460000; val_acc: 0.189000\n",
            "(Iteration 9 / 20) loss: 1.731699\n",
            "(Iteration 10 / 20) loss: 1.763196\n",
            "(Epoch 5 / 10) train acc: 0.530000; val_acc: 0.190000\n",
            "(Iteration 11 / 20) loss: 1.514012\n",
            "(Iteration 12 / 20) loss: 1.278415\n",
            "(Epoch 6 / 10) train acc: 0.520000; val_acc: 0.148000\n",
            "(Iteration 13 / 20) loss: 1.327914\n",
            "(Iteration 14 / 20) loss: 1.266491\n",
            "(Epoch 7 / 10) train acc: 0.620000; val_acc: 0.175000\n",
            "(Iteration 15 / 20) loss: 1.159100\n",
            "(Iteration 16 / 20) loss: 0.981136\n",
            "(Epoch 8 / 10) train acc: 0.740000; val_acc: 0.219000\n",
            "(Iteration 17 / 20) loss: 0.678037\n",
            "(Iteration 18 / 20) loss: 0.845575\n",
            "(Epoch 9 / 10) train acc: 0.760000; val_acc: 0.239000\n",
            "(Iteration 19 / 20) loss: 0.952711\n",
            "(Iteration 20 / 20) loss: 0.484720\n",
            "(Epoch 10 / 10) train acc: 0.820000; val_acc: 0.243000\n"
          ]
        }
      ],
      "source": [
        "num_train = 100\n",
        "small_data = {\n",
        "  'X_train': data['X_train'][:num_train],\n",
        "  'y_train': data['y_train'][:num_train],\n",
        "  'X_val': data['X_val'],\n",
        "  'y_val': data['y_val'],\n",
        "}\n",
        "\n",
        "model = ThreeLayerConvNet(weight_scale=1e-2)\n",
        "\n",
        "solver = Solver(model, small_data,\n",
        "                num_epochs=10, batch_size=50,\n",
        "                update_rule='adam',\n",
        "                optim_config={\n",
        "                  'learning_rate': 1e-3,\n",
        "                },\n",
        "                verbose=True, print_every=1)\n",
        "solver.train()"
      ]
    },
    {
      "cell_type": "code",
      "execution_count": 9,
      "metadata": {
        "colab": {
          "base_uri": "https://localhost:8080/",
          "height": 497
        },
        "id": "ONn4K2XEGCli",
        "outputId": "e6ae0052-2cc2-47d6-ee3a-38bbf868dda7"
      },
      "outputs": [
        {
          "data": {
            "image/png": "[encoded data removed]",
            "text/plain": [
              "<Figure size 720x576 with 2 Axes>"
            ]
          },
          "metadata": {
            "needs_background": "light"
          },
          "output_type": "display_data"
        }
      ],
      "source": [
        "plt.subplot(2, 1, 1)\n",
        "plt.plot(solver.loss_history, 'o')\n",
        "plt.xlabel('iteration')\n",
        "plt.ylabel('loss')\n",
        "\n",
        "plt.subplot(2, 1, 2)\n",
        "plt.plot(solver.train_acc_history, '-o')\n",
        "plt.plot(solver.val_acc_history, '-o')\n",
        "plt.legend(['train', 'val'], loc='upper left')\n",
        "plt.xlabel('epoch')\n",
        "plt.ylabel('accuracy')\n",
        "plt.show()"
      ]
    },
    {
      "cell_type": "markdown",
      "metadata": {
        "id": "LoO5CoLyGCli"
      },
      "source": [
        "## Train the network\n",
        "\n",
        "Now we train the 3 layer CNN on CIFAR-10 and assess its accuracy."
      ]
    },
    {
      "cell_type": "code",
      "execution_count": 10,
      "metadata": {
        "colab": {
          "base_uri": "https://localhost:8080/"
        },
        "id": "05RnxQfTGCli",
        "outputId": "d1ea7824-42aa-4326-bdea-d779246a4684",
        "scrolled": false
      },
      "outputs": [
        {
          "name": "stdout",
          "output_type": "stream",
          "text": [
            "(Iteration 1 / 980) loss: 2.304768\n",
            "(Epoch 0 / 1) train acc: 0.119000; val_acc: 0.132000\n",
            "(Iteration 21 / 980) loss: 2.126332\n",
            "(Iteration 41 / 980) loss: 2.153025\n",
            "(Iteration 61 / 980) loss: 1.977969\n",
            "(Iteration 81 / 980) loss: 1.817777\n",
            "(Iteration 101 / 980) loss: 1.905681\n",
            "(Iteration 121 / 980) loss: 1.796989\n",
            "(Iteration 141 / 980) loss: 1.710884\n",
            "(Iteration 161 / 980) loss: 1.779108\n",
            "(Iteration 181 / 980) loss: 1.687269\n",
            "(Iteration 201 / 980) loss: 1.797083\n",
            "(Iteration 221 / 980) loss: 1.952620\n",
            "(Iteration 241 / 980) loss: 1.866857\n",
            "(Iteration 261 / 980) loss: 1.869549\n",
            "(Iteration 281 / 980) loss: 1.769287\n",
            "(Iteration 301 / 980) loss: 1.584969\n",
            "(Iteration 321 / 980) loss: 2.001099\n",
            "(Iteration 341 / 980) loss: 1.532231\n",
            "(Iteration 361 / 980) loss: 1.671129\n",
            "(Iteration 381 / 980) loss: 1.563422\n",
            "(Iteration 401 / 980) loss: 1.411791\n",
            "(Iteration 421 / 980) loss: 1.680899\n",
            "(Iteration 441 / 980) loss: 1.865277\n",
            "(Iteration 461 / 980) loss: 1.617102\n",
            "(Iteration 481 / 980) loss: 1.751854\n",
            "(Iteration 501 / 980) loss: 1.767635\n",
            "(Iteration 521 / 980) loss: 1.379976\n",
            "(Iteration 541 / 980) loss: 1.606953\n",
            "(Iteration 561 / 980) loss: 1.511014\n",
            "(Iteration 581 / 980) loss: 1.715606\n",
            "(Iteration 601 / 980) loss: 1.702745\n",
            "(Iteration 621 / 980) loss: 1.616080\n",
            "(Iteration 641 / 980) loss: 1.718932\n",
            "(Iteration 661 / 980) loss: 1.644868\n",
            "(Iteration 681 / 980) loss: 1.582971\n",
            "(Iteration 701 / 980) loss: 1.281195\n",
            "(Iteration 721 / 980) loss: 1.494625\n",
            "(Iteration 741 / 980) loss: 1.378247\n",
            "(Iteration 761 / 980) loss: 1.276954\n",
            "(Iteration 781 / 980) loss: 1.467443\n",
            "(Iteration 801 / 980) loss: 1.442700\n",
            "(Iteration 821 / 980) loss: 1.539407\n",
            "(Iteration 841 / 980) loss: 1.686647\n",
            "(Iteration 861 / 980) loss: 1.454624\n",
            "(Iteration 881 / 980) loss: 1.798100\n",
            "(Iteration 901 / 980) loss: 1.394249\n",
            "(Iteration 921 / 980) loss: 1.487071\n",
            "(Iteration 941 / 980) loss: 1.363585\n",
            "(Iteration 961 / 980) loss: 1.432613\n",
            "(Epoch 1 / 1) train acc: 0.437000; val_acc: 0.452000\n"
          ]
        }
      ],
      "source": [
        "model = ThreeLayerConvNet(weight_scale=0.001, hidden_dim=500, reg=0.001)\n",
        "\n",
        "solver = Solver(model, data,\n",
        "                num_epochs=1, batch_size=50,\n",
        "                update_rule='adam',\n",
        "                optim_config={\n",
        "                  'learning_rate': 1e-3,\n",
        "                },\n",
        "                verbose=True, print_every=20)\n",
        "solver.train()"
      ]
    },
    {
      "cell_type": "markdown",
      "metadata": {
        "id": "_x4Uoe-tGCli"
      },
      "source": [
        "# Get > 65% validation accuracy on CIFAR-10.\n",
        "\n",
        "In the last part of the assignment, we'll now ask you to train a CNN to get better than 65% validation accuracy on CIFAR-10.\n",
        "\n",
        "### Things you should try:\n",
        "- Filter size: Above we used 7x7; but VGGNet and onwards showed stacks of 3x3 filters are good.  \n",
        "- Number of filters: Above we used 32 filters. Do more or fewer do better?\n",
        "- Batch normalization: Try adding spatial batch normalization after convolution layers and vanilla batch normalization aafter affine layers. Do your networks train faster?\n",
        "- Network architecture: Can a deeper CNN do better?  Consider these architectures:\n",
        "    - [conv-relu-pool]xN - conv - relu - [affine]xM - [softmax or SVM]\n",
        "    - [conv-relu-pool]XN - [affine]XM - [softmax or SVM]\n",
        "    - [conv-relu-conv-relu-pool]xN - [affine]xM - [softmax or SVM]\n",
        "\n",
        "### Tips for training\n",
        "For each network architecture that you try, you should tune the learning rate and regularization strength. When doing this there are a couple important things to keep in mind:\n",
        "\n",
        "- If the parameters are working well, you should see improvement within a few hundred iterations\n",
        "- Remember the coarse-to-fine approach for hyperparameter tuning: start by testing a large range of hyperparameters for just a few training iterations to find the combinations of parameters that are working at all.\n",
        "- Once you have found some sets of parameters that seem to work, search more finely around these parameters. You may need to train for more epochs."
      ]
    },
    {
      "cell_type": "code",
      "execution_count": 17,
      "metadata": {
        "colab": {
          "base_uri": "https://localhost:8080/"
        },
        "id": "Q6jq3yWwGClj",
        "outputId": "29fbd1fc-8dfa-4df0-c27e-863ec2e29c30",
        "scrolled": false
      },
      "outputs": [
        {
          "name": "stdout",
          "output_type": "stream",
          "text": [
            "(Iteration 1 / 405) loss: 2.723947\n",
            "(Epoch 0 / 5) train acc: 0.184000; val_acc: 0.200000\n",
            "(Iteration 26 / 405) loss: 1.773235\n",
            "(Iteration 51 / 405) loss: 1.441925\n",
            "(Iteration 76 / 405) loss: 1.232319\n",
            "(Epoch 1 / 5) train acc: 0.629000; val_acc: 0.578000\n",
            "(Iteration 101 / 405) loss: 1.151305\n",
            "(Iteration 126 / 405) loss: 1.138219\n",
            "(Iteration 151 / 405) loss: 1.075636\n",
            "(Epoch 2 / 5) train acc: 0.685000; val_acc: 0.614000\n",
            "(Iteration 176 / 405) loss: 0.982541\n",
            "(Iteration 201 / 405) loss: 0.905739\n",
            "(Iteration 226 / 405) loss: 0.987303\n",
            "(Epoch 3 / 5) train acc: 0.719000; val_acc: 0.633000\n",
            "(Iteration 251 / 405) loss: 0.966915\n",
            "(Iteration 276 / 405) loss: 0.857405\n",
            "(Iteration 301 / 405) loss: 0.865271\n",
            "(Epoch 4 / 5) train acc: 0.762000; val_acc: 0.659000\n",
            "(Iteration 326 / 405) loss: 0.884675\n",
            "(Iteration 351 / 405) loss: 0.800641\n",
            "(Iteration 376 / 405) loss: 0.779827\n",
            "(Iteration 401 / 405) loss: 0.806365\n",
            "(Epoch 5 / 5) train acc: 0.805000; val_acc: 0.650000\n",
            "Validation set accuracy: 0.663\n",
            "Test set accuracy: 0.654\n"
          ]
        }
      ],
      "source": [
        "# ================================================================ #\n",
        "# YOUR CODE HERE:\n",
        "#   Implement a CNN to achieve greater than 65% validation accuracy\n",
        "#   on CIFAR-10.\n",
        "# ================================================================ #\n",
        "\n",
        "model = ThreeLayerConvNet(num_filters=64, filter_size=3, hidden_dim=500, weight_scale=2e-2, use_batchnorm=True, reg=0.001)\n",
        "solver = Solver(model, data, update_rule='adam', optim_config={'learning_rate': 1e-3}, lr_decay=0.90, batch_size=600, num_epochs=5, print_every=25, verbose=True)\n",
        "solver.train()\n",
        "\n",
        "y_val_max = np.argmax(model.loss(data['X_val']), axis=1)\n",
        "y_test_max = np.argmax(model.loss(data['X_test']), axis=1)\n",
        "print('Validation set accuracy: {}'.format(np.mean(y_val_max == data['y_val'])))\n",
        "print('Test set accuracy: {}'.format(np.mean(y_test_max == data['y_test'])))\n",
        "\n",
        "# ================================================================ #\n",
        "# END YOUR CODE HERE\n",
        "# ================================================================ #\n"
      ]
    }
  ],
  "metadata": {
    "accelerator": "GPU",
    "colab": {
      "provenance": []
    },
    "gpuClass": "standard",
    "kernelspec": {
      "display_name": "Python 3",
      "language": "python",
      "name": "python3"
    },
    "language_info": {
      "codemirror_mode": {
        "name": "ipython",
        "version": 3
      },
      "file_extension": ".py",
      "mimetype": "text/x-python",
      "name": "python",
      "nbconvert_exporter": "python",
      "pygments_lexer": "ipython3",
      "version": "3.8.8"
    },
    "pycharm": {
      "stem_cell": {
        "cell_type": "raw",
        "metadata": {
          "collapsed": false
        },
        "source": []
      }
    }
  },
  "nbformat": 4,
  "nbformat_minor": 0
}
