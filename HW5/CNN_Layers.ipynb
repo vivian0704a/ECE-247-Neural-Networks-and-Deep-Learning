{
  "cells": [
    {
      "cell_type": "markdown",
      "metadata": {
        "id": "6sHec5KbGDCe"
      },
      "source": [
        "## Convolutional neural network layers\n",
        "\n",
        "In this notebook, we will build the convolutional neural network layers.  This will be followed by a spatial batchnorm, and then in the final notebook of this assignment, we will train a CNN to further improve the validation accuracy on CIFAR-10."
      ]
    },
    {
      "cell_type": "code",
      "source": [
        "from google.colab import drive\n",
        "drive.mount('/content/drive')\n",
        "%cd '/content/drive/MyDrive/ECE247/HW5/utils'\n",
        "!python setup.py build_ext --inplace\n",
        "%cd  /content/drive/MyDrive/ECE247/HW5/\n",
        "!pip install -r requirements-python2.txt\n",
        "!pip install Cython"
      ],
      "metadata": {
        "id": "IhG6m_CmGHZQ"
      },
      "execution_count": null,
      "outputs": []
    },
    {
      "cell_type": "code",
      "execution_count": 2,
      "metadata": {
        "pycharm": {
          "is_executing": true
        },
        "id": "PBrDGkCwGDCf"
      },
      "outputs": [],
      "source": [
        "## Import and setups\n",
        "\n",
        "import time\n",
        "\n",
        "import numpy as np\n",
        "import matplotlib.pyplot as plt\n",
        "from nndl.conv_layers import *\n",
        "from utils.data_utils import get_CIFAR10_data\n",
        "from utils.gradient_check import eval_numerical_gradient, eval_numerical_gradient_array\n",
        "from utils.solver import Solver\n",
        "\n",
        "%matplotlib inline\n",
        "plt.rcParams['figure.figsize'] = (10.0, 8.0) # set default size of plots\n",
        "plt.rcParams['image.interpolation'] = 'nearest'\n",
        "plt.rcParams['image.cmap'] = 'gray'\n",
        "\n",
        "# for auto-reloading external modules\n",
        "# see http://stackoverflow.com/questions/1907993/autoreload-of-modules-in-ipython\n",
        "%load_ext autoreload\n",
        "%autoreload 2\n",
        "\n",
        "def rel_error(x, y):\n",
        "  \"\"\" returns relative error \"\"\"\n",
        "  return np.max(np.abs(x - y) / (np.maximum(1e-8, np.abs(x) + np.abs(y))))"
      ]
    },
    {
      "cell_type": "markdown",
      "metadata": {
        "id": "Qd-4X0YFGDCg"
      },
      "source": [
        "## Implementing CNN layers\n",
        "\n",
        "Just as we implemented modular layers for fully connected networks, batch normalization, and dropout, we'll want to implement modular layers for convolutional neural networks.  These layers are in `nndl/conv_layers.py`."
      ]
    },
    {
      "cell_type": "markdown",
      "metadata": {
        "id": "W7hZ4tyWGDCh"
      },
      "source": [
        "### Convolutional forward pass\n",
        "\n",
        "Begin by implementing a naive version of the forward pass of the CNN that uses `for` loops.  This function is `conv_forward_naive` in `nndl/conv_layers.py`.  Don't worry about efficiency of implementation.  Later on, we provide a fast implementation of these layers.  This version ought to test your understanding of convolution.  In our implementation, there is a triple `for` loop.  \n",
        "\n",
        "After you implement `conv_forward_naive`, test your implementation by running the cell below."
      ]
    },
    {
      "cell_type": "code",
      "execution_count": 3,
      "metadata": {
        "scrolled": true,
        "id": "QGvSIl6lGDCh",
        "colab": {
          "base_uri": "https://localhost:8080/"
        },
        "outputId": "f32b7f3c-cd1e-4d21-8fae-71bcaee2fd9f"
      },
      "outputs": [
        {
          "output_type": "stream",
          "name": "stdout",
          "text": [
            "Testing conv_forward_naive\n",
            "difference:  2.2121476417505994e-08\n"
          ]
        }
      ],
      "source": [
        "x_shape = (2, 3, 4, 4)\n",
        "w_shape = (3, 3, 4, 4)\n",
        "x = np.linspace(-0.1, 0.5, num=np.prod(x_shape)).reshape(x_shape)\n",
        "w = np.linspace(-0.2, 0.3, num=np.prod(w_shape)).reshape(w_shape)\n",
        "b = np.linspace(-0.1, 0.2, num=3)\n",
        "\n",
        "conv_param = {'stride': 2, 'pad': 1}\n",
        "out, _ = conv_forward_naive(x, w, b, conv_param)\n",
        "correct_out = np.array([[[[-0.08759809, -0.10987781],\n",
        "                           [-0.18387192, -0.2109216 ]],\n",
        "                          [[ 0.21027089,  0.21661097],\n",
        "                           [ 0.22847626,  0.23004637]],\n",
        "                          [[ 0.50813986,  0.54309974],\n",
        "                           [ 0.64082444,  0.67101435]]],\n",
        "                         [[[-0.98053589, -1.03143541],\n",
        "                           [-1.19128892, -1.24695841]],\n",
        "                          [[ 0.69108355,  0.66880383],\n",
        "                           [ 0.59480972,  0.56776003]],\n",
        "                          [[ 2.36270298,  2.36904306],\n",
        "                           [ 2.38090835,  2.38247847]]]])\n",
        "\n",
        "# Compare your output to ours; difference should be around 1e-8\n",
        "print('Testing conv_forward_naive')\n",
        "print('difference: ', rel_error(out, correct_out))"
      ]
    },
    {
      "cell_type": "markdown",
      "metadata": {
        "id": "1KHkghO6GDCh"
      },
      "source": [
        "### Convolutional backward pass\n",
        "\n",
        "Now, implement a naive version of the backward pass of the CNN.  The function is `conv_backward_naive` in `nndl/conv_layers.py`.  Don't worry about efficiency of implementation.  Later on, we provide a fast implementation of these layers.  This version ought to test your understanding of convolution.  In our implementation, there is a quadruple `for` loop.  \n",
        "\n",
        "After you implement `conv_backward_naive`, test your implementation by running the cell below."
      ]
    },
    {
      "cell_type": "code",
      "execution_count": 4,
      "metadata": {
        "id": "6zmPGxyNGDCh",
        "colab": {
          "base_uri": "https://localhost:8080/"
        },
        "outputId": "a43a7e54-6527-4338-b21a-379c45430c7b"
      },
      "outputs": [
        {
          "output_type": "stream",
          "name": "stdout",
          "text": [
            "Testing conv_backward_naive function\n",
            "dx error:  6.648828934409554e-10\n",
            "dw error:  5.622340590410722e-10\n",
            "db error:  8.442550183802259e-11\n"
          ]
        }
      ],
      "source": [
        "x = np.random.randn(4, 3, 5, 5)\n",
        "w = np.random.randn(2, 3, 3, 3)\n",
        "b = np.random.randn(2,)\n",
        "dout = np.random.randn(4, 2, 5, 5)\n",
        "conv_param = {'stride': 1, 'pad': 1}\n",
        "\n",
        "out, cache = conv_forward_naive(x,w,b,conv_param)\n",
        "\n",
        "dx_num = eval_numerical_gradient_array(lambda x: conv_forward_naive(x, w, b, conv_param)[0], x, dout)\n",
        "dw_num = eval_numerical_gradient_array(lambda w: conv_forward_naive(x, w, b, conv_param)[0], w, dout)\n",
        "db_num = eval_numerical_gradient_array(lambda b: conv_forward_naive(x, w, b, conv_param)[0], b, dout)\n",
        "\n",
        "out, cache = conv_forward_naive(x, w, b, conv_param)\n",
        "dx, dw, db = conv_backward_naive(dout, cache)\n",
        "\n",
        "# Your errors should be around 1e-9'\n",
        "print('Testing conv_backward_naive function')\n",
        "print('dx error: ', rel_error(dx, dx_num))\n",
        "print('dw error: ', rel_error(dw, dw_num))\n",
        "print('db error: ', rel_error(db, db_num))"
      ]
    },
    {
      "cell_type": "markdown",
      "metadata": {
        "id": "S1jWyu58GDCi"
      },
      "source": [
        "### Max pool forward pass\n",
        "\n",
        "In this section, we will implement the forward pass of the max pool.  The function is `max_pool_forward_naive` in `nndl/conv_layers.py`.  Do not worry about the efficiency of implementation.\n",
        "\n",
        "After you implement `max_pool_forward_naive`, test your implementation by running the cell below."
      ]
    },
    {
      "cell_type": "code",
      "execution_count": 5,
      "metadata": {
        "id": "vuS8SiXnGDCi",
        "colab": {
          "base_uri": "https://localhost:8080/"
        },
        "outputId": "763736dd-cf55-4f6c-9fcc-3574fa9acdf0"
      },
      "outputs": [
        {
          "output_type": "stream",
          "name": "stdout",
          "text": [
            "Testing max_pool_forward_naive function:\n",
            "difference:  4.1666665157267834e-08\n"
          ]
        }
      ],
      "source": [
        "x_shape = (2, 3, 4, 4)\n",
        "x = np.linspace(-0.3, 0.4, num=np.prod(x_shape)).reshape(x_shape)\n",
        "pool_param = {'pool_width': 2, 'pool_height': 2, 'stride': 2}\n",
        "\n",
        "out, _ = max_pool_forward_naive(x, pool_param)\n",
        "\n",
        "correct_out = np.array([[[[-0.26315789, -0.24842105],\n",
        "                          [-0.20421053, -0.18947368]],\n",
        "                         [[-0.14526316, -0.13052632],\n",
        "                          [-0.08631579, -0.07157895]],\n",
        "                         [[-0.02736842, -0.01263158],\n",
        "                          [ 0.03157895,  0.04631579]]],\n",
        "                        [[[ 0.09052632,  0.10526316],\n",
        "                          [ 0.14947368,  0.16421053]],\n",
        "                         [[ 0.20842105,  0.22315789],\n",
        "                          [ 0.26736842,  0.28210526]],\n",
        "                         [[ 0.32631579,  0.34105263],\n",
        "                          [ 0.38526316,  0.4       ]]]])\n",
        "\n",
        "# Compare your output with ours. Difference should be around 1e-8.\n",
        "print('Testing max_pool_forward_naive function:')\n",
        "print('difference: ', rel_error(out, correct_out))"
      ]
    },
    {
      "cell_type": "markdown",
      "metadata": {
        "id": "EOkEkSwwGDCi"
      },
      "source": [
        "### Max pool backward pass \n",
        "\n",
        "In this section, you will implement the backward pass of the max pool.  The function is `max_pool_backward_naive` in `nndl/conv_layers.py`.  Do not worry about the efficiency of implementation.\n",
        "\n",
        "After you implement `max_pool_backward_naive`, test your implementation by running the cell below."
      ]
    },
    {
      "cell_type": "code",
      "execution_count": 6,
      "metadata": {
        "id": "jPlsGKczGDCj",
        "colab": {
          "base_uri": "https://localhost:8080/"
        },
        "outputId": "8e9c5000-6b77-4788-cb7f-1ec6e24f4a7e"
      },
      "outputs": [
        {
          "output_type": "stream",
          "name": "stdout",
          "text": [
            "Testing max_pool_backward_naive function:\n",
            "dx error:  3.275631671935436e-12\n"
          ]
        }
      ],
      "source": [
        "x = np.random.randn(3, 2, 8, 8)\n",
        "dout = np.random.randn(3, 2, 4, 4)\n",
        "pool_param = {'pool_height': 2, 'pool_width': 2, 'stride': 2}\n",
        "\n",
        "dx_num = eval_numerical_gradient_array(lambda x: max_pool_forward_naive(x, pool_param)[0], x, dout)\n",
        "\n",
        "out, cache = max_pool_forward_naive(x, pool_param)\n",
        "dx = max_pool_backward_naive(dout, cache)\n",
        "\n",
        "# Your error should be around 1e-12\n",
        "print('Testing max_pool_backward_naive function:')\n",
        "print('dx error: ', rel_error(dx, dx_num))"
      ]
    },
    {
      "cell_type": "markdown",
      "metadata": {
        "id": "VmWATj24GDCj"
      },
      "source": [
        "## Fast implementation of the CNN layers\n",
        "\n",
        "Implementing fast versions of the CNN layers can be difficult.  We will provide you with the fast layers implemented by utils.  They are provided in `utils/fast_layers.py`.\n",
        "\n",
        "The fast convolution implementation depends on a Cython extension ('pip install Cython' to your virtual environment); to compile it you need to run the following from the `utils` directory:\n",
        "\n",
        "```bash\n",
        "python setup.py build_ext --inplace\n",
        "```\n",
        "\n",
        "**NOTE:** The fast implementation for pooling will only perform optimally if the pooling regions are non-overlapping and tile the input. If these conditions are not met then the fast pooling implementation will not be much faster than the naive implementation.\n",
        "\n",
        "You can compare the performance of the naive and fast versions of these layers by running the cell below.\n",
        "\n",
        "You should see pretty drastic speedups in the implementation of these layers.  On our machine, the forward pass speeds up by 17x and the backward pass speeds up by 840x.  Of course, these numbers will vary from machine to machine, as well as on your precise implementation of the naive layers."
      ]
    },
    {
      "cell_type": "code",
      "execution_count": 7,
      "metadata": {
        "id": "_VMv3Q9mGDCj",
        "colab": {
          "base_uri": "https://localhost:8080/"
        },
        "outputId": "1209f69d-38e1-49fc-dcc0-99ac66c5040c"
      },
      "outputs": [
        {
          "output_type": "stream",
          "name": "stdout",
          "text": [
            "Testing conv_forward_fast:\n",
            "Naive: 0.456673s\n",
            "Fast: 0.022111s\n",
            "Speedup: 20.653943x\n",
            "Difference:  1.9783071419267096e-11\n",
            "\n",
            "Testing conv_backward_fast:\n",
            "Naive: 9.994602s\n",
            "Fast: 0.020567s\n",
            "Speedup: 485.960389x\n",
            "dx difference:  1.7629804652198963e-11\n",
            "dw difference:  1.6723393055532457e-12\n",
            "db difference:  0.0\n"
          ]
        }
      ],
      "source": [
        "from utils.fast_layers import conv_forward_fast, conv_backward_fast\n",
        "from time import time\n",
        "\n",
        "x = np.random.randn(100, 3, 31, 31)\n",
        "w = np.random.randn(25, 3, 3, 3)\n",
        "b = np.random.randn(25,)\n",
        "dout = np.random.randn(100, 25, 16, 16)\n",
        "conv_param = {'stride': 2, 'pad': 1}\n",
        "\n",
        "t0 = time()\n",
        "out_naive, cache_naive = conv_forward_naive(x, w, b, conv_param)\n",
        "t1 = time()\n",
        "out_fast, cache_fast = conv_forward_fast(x, w, b, conv_param)\n",
        "t2 = time()\n",
        "\n",
        "print('Testing conv_forward_fast:')\n",
        "print('Naive: %fs' % (t1 - t0))\n",
        "print('Fast: %fs' % (t2 - t1))\n",
        "print('Speedup: %fx' % ((t1 - t0) / (t2 - t1)))\n",
        "print('Difference: ', rel_error(out_naive, out_fast))\n",
        "\n",
        "t0 = time()\n",
        "dx_naive, dw_naive, db_naive = conv_backward_naive(dout, cache_naive)\n",
        "t1 = time()\n",
        "dx_fast, dw_fast, db_fast = conv_backward_fast(dout, cache_fast)\n",
        "t2 = time()\n",
        "\n",
        "print('\\nTesting conv_backward_fast:')\n",
        "print('Naive: %fs' % (t1 - t0))\n",
        "print('Fast: %fs' % (t2 - t1))\n",
        "print('Speedup: %fx' % ((t1 - t0) / (t2 - t1)))\n",
        "print('dx difference: ', rel_error(dx_naive, dx_fast))\n",
        "print('dw difference: ', rel_error(dw_naive, dw_fast))\n",
        "print('db difference: ', rel_error(db_naive, db_fast))"
      ]
    },
    {
      "cell_type": "code",
      "execution_count": 8,
      "metadata": {
        "id": "k3jgkYNCGDCj",
        "colab": {
          "base_uri": "https://localhost:8080/"
        },
        "outputId": "8b2f027b-0fce-4827-d521-ebd178432557"
      },
      "outputs": [
        {
          "output_type": "stream",
          "name": "stdout",
          "text": [
            "Testing pool_forward_fast:\n",
            "Naive: 0.578117s\n",
            "fast: 0.006874s\n",
            "speedup: 84.106764x\n",
            "difference:  0.0\n",
            "\n",
            "Testing pool_backward_fast:\n",
            "Naive: 1.374908s\n",
            "speedup: 60.556348x\n",
            "dx difference:  0.0\n"
          ]
        }
      ],
      "source": [
        "from utils.fast_layers import max_pool_forward_fast, max_pool_backward_fast\n",
        "\n",
        "x = np.random.randn(100, 3, 32, 32)\n",
        "dout = np.random.randn(100, 3, 16, 16)\n",
        "pool_param = {'pool_height': 2, 'pool_width': 2, 'stride': 2}\n",
        "\n",
        "t0 = time()\n",
        "out_naive, cache_naive = max_pool_forward_naive(x, pool_param)\n",
        "t1 = time()\n",
        "out_fast, cache_fast = max_pool_forward_fast(x, pool_param)\n",
        "t2 = time()\n",
        "\n",
        "print('Testing pool_forward_fast:')\n",
        "print('Naive: %fs' % (t1 - t0))\n",
        "print('fast: %fs' % (t2 - t1))\n",
        "print('speedup: %fx' % ((t1 - t0) / (t2 - t1)))\n",
        "print('difference: ', rel_error(out_naive, out_fast))\n",
        "\n",
        "t0 = time()\n",
        "dx_naive = max_pool_backward_naive(dout, cache_naive)\n",
        "t1 = time()\n",
        "dx_fast = max_pool_backward_fast(dout, cache_fast)\n",
        "t2 = time()\n",
        "\n",
        "print('\\nTesting pool_backward_fast:')\n",
        "print('Naive: %fs' % (t1 - t0))\n",
        "print('speedup: %fx' % ((t1 - t0) / (t2 - t1)))\n",
        "print('dx difference: ', rel_error(dx_naive, dx_fast))"
      ]
    },
    {
      "cell_type": "markdown",
      "metadata": {
        "id": "PQ2gdpqwGDCk"
      },
      "source": [
        "## Implementation of cascaded layers\n",
        "\n",
        "We've provided the following functions in `nndl/conv_layer_utils.py`:\n",
        "    - conv_relu_forward\n",
        "    - conv_relu_backward\n",
        "    - conv_relu_pool_forward\n",
        "    - conv_relu_pool_backward\n",
        "    \n",
        "These use the fast implementations of the conv net layers.  You can test them below:"
      ]
    },
    {
      "cell_type": "code",
      "execution_count": 9,
      "metadata": {
        "id": "GGGOyWzlGDCk",
        "colab": {
          "base_uri": "https://localhost:8080/"
        },
        "outputId": "02fe1267-f102-4ee3-cf9b-6a39a05cb320"
      },
      "outputs": [
        {
          "output_type": "stream",
          "name": "stdout",
          "text": [
            "Testing conv_relu_pool\n",
            "dx error:  4.286078877434558e-08\n",
            "dw error:  3.7518255307137463e-10\n",
            "db error:  1.6853529152554106e-11\n"
          ]
        }
      ],
      "source": [
        "from nndl.conv_layer_utils import conv_relu_pool_forward, conv_relu_pool_backward\n",
        "\n",
        "x = np.random.randn(2, 3, 16, 16)\n",
        "w = np.random.randn(3, 3, 3, 3)\n",
        "b = np.random.randn(3,)\n",
        "dout = np.random.randn(2, 3, 8, 8)\n",
        "conv_param = {'stride': 1, 'pad': 1}\n",
        "pool_param = {'pool_height': 2, 'pool_width': 2, 'stride': 2}\n",
        "\n",
        "out, cache = conv_relu_pool_forward(x, w, b, conv_param, pool_param)\n",
        "dx, dw, db = conv_relu_pool_backward(dout, cache)\n",
        "\n",
        "dx_num = eval_numerical_gradient_array(lambda x: conv_relu_pool_forward(x, w, b, conv_param, pool_param)[0], x, dout)\n",
        "dw_num = eval_numerical_gradient_array(lambda w: conv_relu_pool_forward(x, w, b, conv_param, pool_param)[0], w, dout)\n",
        "db_num = eval_numerical_gradient_array(lambda b: conv_relu_pool_forward(x, w, b, conv_param, pool_param)[0], b, dout)\n",
        "\n",
        "print('Testing conv_relu_pool')\n",
        "print('dx error: ', rel_error(dx_num, dx))\n",
        "print('dw error: ', rel_error(dw_num, dw))\n",
        "print('db error: ', rel_error(db_num, db))"
      ]
    },
    {
      "cell_type": "code",
      "execution_count": 10,
      "metadata": {
        "pycharm": {
          "is_executing": true
        },
        "id": "lBHj_ZhLGDCk",
        "colab": {
          "base_uri": "https://localhost:8080/"
        },
        "outputId": "3a231269-9a75-4560-d7b7-eb4d71cbc45f"
      },
      "outputs": [
        {
          "output_type": "stream",
          "name": "stdout",
          "text": [
            "Testing conv_relu:\n",
            "dx error:  4.533790159749541e-07\n",
            "dw error:  3.5173780929382726e-10\n",
            "db error:  1.9016793182981424e-11\n"
          ]
        }
      ],
      "source": [
        "from nndl.conv_layer_utils import conv_relu_forward, conv_relu_backward\n",
        "\n",
        "x = np.random.randn(2, 3, 8, 8)\n",
        "w = np.random.randn(3, 3, 3, 3)\n",
        "b = np.random.randn(3,)\n",
        "dout = np.random.randn(2, 3, 8, 8)\n",
        "conv_param = {'stride': 1, 'pad': 1}\n",
        "\n",
        "out, cache = conv_relu_forward(x, w, b, conv_param)\n",
        "dx, dw, db = conv_relu_backward(dout, cache)\n",
        "\n",
        "dx_num = eval_numerical_gradient_array(lambda x: conv_relu_forward(x, w, b, conv_param)[0], x, dout)\n",
        "dw_num = eval_numerical_gradient_array(lambda w: conv_relu_forward(x, w, b, conv_param)[0], w, dout)\n",
        "db_num = eval_numerical_gradient_array(lambda b: conv_relu_forward(x, w, b, conv_param)[0], b, dout)\n",
        "\n",
        "print('Testing conv_relu:')\n",
        "print('dx error: ', rel_error(dx_num, dx))\n",
        "print('dw error: ', rel_error(dw_num, dw))\n",
        "print('db error: ', rel_error(db_num, db))"
      ]
    },
    {
      "cell_type": "markdown",
      "metadata": {
        "id": "abmv0OneGDCk"
      },
      "source": [
        "## What next?\n",
        "\n",
        "We saw how helpful batch normalization was for training FC nets.  In the next notebook, we'll implement a batch normalization for convolutional neural networks, and then finish off by implementing a CNN to improve our validation accuracy on CIFAR-10."
      ]
    }
  ],
  "metadata": {
    "kernelspec": {
      "display_name": "Python 3",
      "language": "python",
      "name": "python3"
    },
    "language_info": {
      "codemirror_mode": {
        "name": "ipython",
        "version": 3
      },
      "file_extension": ".py",
      "mimetype": "text/x-python",
      "name": "python",
      "nbconvert_exporter": "python",
      "pygments_lexer": "ipython3",
      "version": "3.8.8"
    },
    "pycharm": {
      "stem_cell": {
        "cell_type": "raw",
        "metadata": {
          "collapsed": false
        },
        "source": []
      }
    },
    "colab": {
      "provenance": []
    }
  },
  "nbformat": 4,
  "nbformat_minor": 0
}