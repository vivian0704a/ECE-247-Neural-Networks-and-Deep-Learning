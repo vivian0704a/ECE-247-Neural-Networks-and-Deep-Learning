{
  "cells": [
    {
      "cell_type": "markdown",
      "metadata": {
        "id": "m-rgYSFnfkwS"
      },
      "source": [
        "# Fully connected networks\n",
        "\n",
        "In the previous notebook, you implemented a simple two-layer neural network class.  However, this class is not modular.  If you wanted to change the number of layers, you would need to write a new loss and gradient function.  If you wanted to optimize the network with different optimizers, you'd need to write new training functions.  If you wanted to incorporate regularizations, you'd have to modify the loss and gradient function.  \n",
        "\n",
        "Instead of having to modify functions each time, for the rest of the class, we'll work in a more modular framework where we define forward and backward layers that calculate losses and gradients respectively.  Since the forward and backward layers share intermediate values that are useful for calculating both the loss and the gradient, we'll also have these function return \"caches\" which store useful intermediate values.\n",
        "\n",
        "The goal is that through this modular design, we can build different sized neural networks for various applications.\n",
        "\n",
        "In this HW #3, we'll define the basic architecture, and in HW #4, we'll build on this framework to implement different optimizers and regularizations (like BatchNorm and Dropout).\n",
        "\n"
      ]
    },
    {
      "cell_type": "code",
      "execution_count": null,
      "metadata": {
        "id": "xJiO8Oio3tPi"
      },
      "outputs": [],
      "source": [
        "from google.colab import drive\n",
        "drive.mount('/content/drive')\n",
        "%cd  /content/drive/MyDrive/ECE247/HW3/\n",
        "!pip install -r requirements-python2.txt"
      ]
    },
    {
      "cell_type": "markdown",
      "metadata": {
        "id": "oHvA6ymkfkwV"
      },
      "source": [
        "## Modular layers\n",
        "\n",
        "This notebook will build modular layers in the following manner.  First, there will be a forward pass for a given layer with inputs (`x`) and return the output of that layer (`out`) as well as cached variables (`cache`) that will be used to calculate the gradient in the backward pass.\n",
        "\n",
        "```python\n",
        "def layer_forward(x, w):\n",
        "  \"\"\" Receive inputs x and weights w \"\"\"\n",
        "  # Do some computations ...\n",
        "  z = # ... some intermediate value\n",
        "  # Do some more computations ...\n",
        "  out = # the output\n",
        "   \n",
        "  cache = (x, w, z, out) # Values we need to compute gradients\n",
        "   \n",
        "  return out, cache\n",
        "```\n",
        "\n",
        "The backward pass will receive upstream derivatives and the `cache` object, and will return gradients with respect to the inputs and weights, like this:\n",
        "\n",
        "```python\n",
        "def layer_backward(dout, cache):\n",
        "  \"\"\"\n",
        "  Receive derivative of loss with respect to outputs and cache,\n",
        "  and compute derivative with respect to inputs.\n",
        "  \"\"\"\n",
        "  # Unpack cache values\n",
        "  x, w, z, out = cache\n",
        "  \n",
        "  # Use values in cache to compute derivatives\n",
        "  dx = # Derivative of loss with respect to x\n",
        "  dw = # Derivative of loss with respect to w\n",
        "  \n",
        "  return dx, dw\n",
        "```"
      ]
    },
    {
      "cell_type": "code",
      "execution_count": null,
      "metadata": {
        "id": "uHY39V8lfkwW"
      },
      "outputs": [],
      "source": [
        "## Import and setups\n",
        "\n",
        "import time\n",
        "import numpy as np\n",
        "import matplotlib.pyplot as plt\n",
        "from nndl.fc_net import *\n",
        "from utils.data_utils import get_CIFAR10_data\n",
        "from utils.gradient_check import eval_numerical_gradient, eval_numerical_gradient_array\n",
        "from utils.solver import Solver\n",
        "\n",
        "%matplotlib inline\n",
        "plt.rcParams['figure.figsize'] = (10.0, 8.0) # set default size of plots\n",
        "plt.rcParams['image.interpolation'] = 'nearest'\n",
        "plt.rcParams['image.cmap'] = 'gray'\n",
        "\n",
        "# for auto-reloading external modules\n",
        "# see http://stackoverflow.com/questions/1907993/autoreload-of-modules-in-ipython\n",
        "%load_ext autoreload\n",
        "%autoreload 2\n",
        "\n",
        "def rel_error(x, y):\n",
        "  \"\"\" returns relative error \"\"\"\n",
        "  return np.max(np.abs(x - y) / (np.maximum(1e-8, np.abs(x) + np.abs(y))))"
      ]
    },
    {
      "cell_type": "code",
      "execution_count": null,
      "metadata": {
        "colab": {
          "base_uri": "https://localhost:8080/"
        },
        "id": "c_1HMQtKfkwX",
        "outputId": "4e7d6280-3600-4baf-affd-5c61692fbf5a"
      },
      "outputs": [
        {
          "name": "stdout",
          "output_type": "stream",
          "text": [
            "X_train: (49000, 3, 32, 32) \n",
            "y_train: (49000,) \n",
            "X_val: (1000, 3, 32, 32) \n",
            "y_val: (1000,) \n",
            "X_test: (1000, 3, 32, 32) \n",
            "y_test: (1000,) \n"
          ]
        }
      ],
      "source": [
        "# Load the (preprocessed) CIFAR10 data.\n",
        "data = get_CIFAR10_data()\n",
        "for k in data.keys():\n",
        "  print('{}: {} '.format(k, data[k].shape))"
      ]
    },
    {
      "cell_type": "markdown",
      "metadata": {
        "id": "8vCO_t3HfkwY"
      },
      "source": [
        "## Linear layers\n",
        "\n",
        "In this section, we'll implement the forward and backward pass for the linear layers.\n",
        "\n",
        "The linear layer forward pass is the function `affine_forward` in `nndl/layers.py` and the backward pass is `affine_backward`.\n",
        "\n",
        "After you have implemented these, test your implementation by running the cell below."
      ]
    },
    {
      "cell_type": "markdown",
      "metadata": {
        "id": "0rP9U5W3fkwY"
      },
      "source": [
        "### Affine layer forward pass\n",
        "\n",
        "Implement `affine_forward` and then test your code by running the following cell."
      ]
    },
    {
      "cell_type": "code",
      "execution_count": null,
      "metadata": {
        "colab": {
          "base_uri": "https://localhost:8080/"
        },
        "id": "-A-1pFUGfkwZ",
        "outputId": "5e6ce043-fbe8-4e25-cd06-baa709eb49b4"
      },
      "outputs": [
        {
          "name": "stdout",
          "output_type": "stream",
          "text": [
            "Testing affine_forward function:\n",
            "difference: 9.769849468192957e-10\n"
          ]
        }
      ],
      "source": [
        "# Test the affine_forward function\n",
        "\n",
        "num_inputs = 2\n",
        "input_shape = (4, 5, 6)\n",
        "output_dim = 3\n",
        "\n",
        "input_size = num_inputs * np.prod(input_shape)\n",
        "weight_size = output_dim * np.prod(input_shape)\n",
        "\n",
        "x = np.linspace(-0.1, 0.5, num=input_size).reshape(num_inputs, *input_shape)\n",
        "w = np.linspace(-0.2, 0.3, num=weight_size).reshape(np.prod(input_shape), output_dim)\n",
        "b = np.linspace(-0.3, 0.1, num=output_dim)\n",
        "\n",
        "out, _ = affine_forward(x, w, b)\n",
        "correct_out = np.array([[ 1.49834967,  1.70660132,  1.91485297],\n",
        "                        [ 3.25553199,  3.5141327,   3.77273342]])\n",
        "\n",
        "# Compare your output with ours. The error should be around 1e-9.\n",
        "print('Testing affine_forward function:')\n",
        "print('difference: {}'.format(rel_error(out, correct_out)))"
      ]
    },
    {
      "cell_type": "markdown",
      "metadata": {
        "id": "Yd4vLHAffkwZ"
      },
      "source": [
        "### Affine layer backward pass\n",
        "\n",
        "Implement `affine_backward` and then test your code by running the following cell."
      ]
    },
    {
      "cell_type": "code",
      "execution_count": null,
      "metadata": {
        "colab": {
          "base_uri": "https://localhost:8080/"
        },
        "id": "BmoxkG8rfkwZ",
        "outputId": "dcc78184-3956-4c2e-9eca-3a5d27daeab4"
      },
      "outputs": [
        {
          "name": "stdout",
          "output_type": "stream",
          "text": [
            "Testing affine_backward function:\n",
            "dx error: 4.0539038531140744e-10\n",
            "dw error: 6.425932372913658e-11\n",
            "db error: 8.076912076502997e-12\n"
          ]
        }
      ],
      "source": [
        "# Test the affine_backward function\n",
        "\n",
        "x = np.random.randn(10, 2, 3)\n",
        "w = np.random.randn(6, 5)\n",
        "b = np.random.randn(5)\n",
        "dout = np.random.randn(10, 5)\n",
        "\n",
        "dx_num = eval_numerical_gradient_array(lambda x: affine_forward(x, w, b)[0], x, dout)\n",
        "dw_num = eval_numerical_gradient_array(lambda w: affine_forward(x, w, b)[0], w, dout)\n",
        "db_num = eval_numerical_gradient_array(lambda b: affine_forward(x, w, b)[0], b, dout)\n",
        "\n",
        "_, cache = affine_forward(x, w, b)\n",
        "dx, dw, db = affine_backward(dout, cache)\n",
        "\n",
        "# The error should be around 1e-10\n",
        "print('Testing affine_backward function:')\n",
        "print('dx error: {}'.format(rel_error(dx_num, dx)))\n",
        "print('dw error: {}'.format(rel_error(dw_num, dw)))\n",
        "print('db error: {}'.format(rel_error(db_num, db)))"
      ]
    },
    {
      "cell_type": "markdown",
      "metadata": {
        "id": "g9lEjODtfkwa"
      },
      "source": [
        "## Activation layers\n",
        "\n",
        "In this section you'll implement the ReLU activation."
      ]
    },
    {
      "cell_type": "markdown",
      "metadata": {
        "id": "Hlensmdofkwa"
      },
      "source": [
        "### ReLU forward pass\n",
        "\n",
        "Implement the `relu_forward` function in `nndl/layers.py` and then test your code by running the following cell."
      ]
    },
    {
      "cell_type": "code",
      "execution_count": null,
      "metadata": {
        "colab": {
          "base_uri": "https://localhost:8080/"
        },
        "id": "kClfv-SBfkwa",
        "outputId": "d1d2bb71-4ce3-4810-e24d-6b5f73510c94"
      },
      "outputs": [
        {
          "name": "stdout",
          "output_type": "stream",
          "text": [
            "Testing relu_forward function:\n",
            "difference: 4.999999798022158e-08\n"
          ]
        }
      ],
      "source": [
        "# Test the relu_forward function\n",
        "\n",
        "x = np.linspace(-0.5, 0.5, num=12).reshape(3, 4)\n",
        "\n",
        "out, _ = relu_forward(x)\n",
        "correct_out = np.array([[ 0.,          0.,          0.,          0.,        ],\n",
        "                        [ 0.,          0.,          0.04545455,  0.13636364,],\n",
        "                        [ 0.22727273,  0.31818182,  0.40909091,  0.5,       ]])\n",
        "\n",
        "# Compare your output with ours. The error should be around 1e-8\n",
        "print('Testing relu_forward function:')\n",
        "print('difference: {}'.format(rel_error(out, correct_out)))"
      ]
    },
    {
      "cell_type": "markdown",
      "metadata": {
        "id": "g98RI-Okfkwb"
      },
      "source": [
        "### ReLU backward pass\n",
        "Implement the `relu_backward` function in `nndl/layers.py` and then test your code by running the following cell."
      ]
    },
    {
      "cell_type": "code",
      "execution_count": null,
      "metadata": {
        "colab": {
          "base_uri": "https://localhost:8080/"
        },
        "id": "jTI6T2JDfkwb",
        "outputId": "cf923b5d-6b94-4381-fe4f-c993fad3a755"
      },
      "outputs": [
        {
          "name": "stdout",
          "output_type": "stream",
          "text": [
            "Testing relu_backward function:\n",
            "dx error: 3.2756062326671693e-12\n"
          ]
        }
      ],
      "source": [
        "x = np.random.randn(10, 10)\n",
        "dout = np.random.randn(*x.shape)\n",
        "\n",
        "dx_num = eval_numerical_gradient_array(lambda x: relu_forward(x)[0], x, dout)\n",
        "\n",
        "_, cache = relu_forward(x)\n",
        "dx = relu_backward(dout, cache)\n",
        "\n",
        "# The error should be around 1e-12\n",
        "print('Testing relu_backward function:')\n",
        "print('dx error: {}'.format(rel_error(dx_num, dx)))"
      ]
    },
    {
      "cell_type": "markdown",
      "metadata": {
        "id": "g6ngmg4Pfkwb"
      },
      "source": [
        "## Combining the affine and ReLU layers\n",
        "\n",
        "Often times, an affine layer will be followed by a ReLU layer. So let's make one that puts them together.  Layers that are combined are stored in `nndl/layer_utils.py`.  "
      ]
    },
    {
      "cell_type": "markdown",
      "metadata": {
        "id": "iIQD8SL0fkwb"
      },
      "source": [
        "### Affine-ReLU layers\n",
        "We've implemented `affine_relu_forward()` and `affine_relu_backward` in ``nndl/layer_utils.py``.  Take a look at them to make sure you understand what's going on.  Then run the following cell to ensure its implemented correctly."
      ]
    },
    {
      "cell_type": "code",
      "execution_count": null,
      "metadata": {
        "colab": {
          "base_uri": "https://localhost:8080/"
        },
        "id": "0OWm7t42fkwc",
        "outputId": "db2c2f7a-1640-4f24-9724-86c4023b0262"
      },
      "outputs": [
        {
          "name": "stdout",
          "output_type": "stream",
          "text": [
            "Testing affine_relu_forward and affine_relu_backward:\n",
            "dx error: 7.609145457314141e-10\n",
            "dw error: 4.0397787585362e-10\n",
            "db error: 8.73170593999215e-11\n"
          ]
        }
      ],
      "source": [
        "from nndl.layer_utils import affine_relu_forward, affine_relu_backward\n",
        "\n",
        "x = np.random.randn(2, 3, 4)\n",
        "w = np.random.randn(12, 10)\n",
        "b = np.random.randn(10)\n",
        "dout = np.random.randn(2, 10)\n",
        "\n",
        "out, cache = affine_relu_forward(x, w, b)\n",
        "dx, dw, db = affine_relu_backward(dout, cache)\n",
        "\n",
        "dx_num = eval_numerical_gradient_array(lambda x: affine_relu_forward(x, w, b)[0], x, dout)\n",
        "dw_num = eval_numerical_gradient_array(lambda w: affine_relu_forward(x, w, b)[0], w, dout)\n",
        "db_num = eval_numerical_gradient_array(lambda b: affine_relu_forward(x, w, b)[0], b, dout)\n",
        "\n",
        "print('Testing affine_relu_forward and affine_relu_backward:')\n",
        "print('dx error: {}'.format(rel_error(dx_num, dx)))\n",
        "print('dw error: {}'.format(rel_error(dw_num, dw)))\n",
        "print('db error: {}'.format(rel_error(db_num, db)))"
      ]
    },
    {
      "cell_type": "markdown",
      "metadata": {
        "id": "SGtRKCvUfkwc"
      },
      "source": [
        "## Softmax loss\n",
        "\n",
        "You've already implemented it, so we have written it in `layers.py`.  The following code will ensure they are working correctly."
      ]
    },
    {
      "cell_type": "code",
      "execution_count": null,
      "metadata": {
        "colab": {
          "base_uri": "https://localhost:8080/"
        },
        "id": "oPiQhS12fkwc",
        "outputId": "105f9e04-f8ec-453b-82d8-9631635085da"
      },
      "outputs": [
        {
          "name": "stdout",
          "output_type": "stream",
          "text": [
            "\n",
            "Testing softmax_loss:\n",
            "loss: 2.302577164926\n",
            "dx error: 7.241101135816363e-09\n"
          ]
        }
      ],
      "source": [
        "num_classes, num_inputs = 10, 50\n",
        "x = 0.001 * np.random.randn(num_inputs, num_classes)\n",
        "y = np.random.randint(num_classes, size=num_inputs)\n",
        "\n",
        "\n",
        "\n",
        "dx_num = eval_numerical_gradient(lambda x: softmax_loss(x, y)[0], x, verbose=False)\n",
        "loss, dx = softmax_loss(x, y)\n",
        "\n",
        "# Test softmax_loss function. Loss should be 2.3 and dx error should be 1e-8\n",
        "print('\\nTesting softmax_loss:')\n",
        "print('loss: {}'.format(loss))\n",
        "print('dx error: {}'.format(rel_error(dx_num, dx)))"
      ]
    },
    {
      "cell_type": "markdown",
      "metadata": {
        "id": "u-hB8Z_Pfkwc"
      },
      "source": [
        "## Implementation of a two-layer NN\n",
        "\n",
        "In `nndl/fc_net.py`, implement the class `TwoLayerNet` which uses the layers you made here.  When you have finished, the following cell will test your implementation."
      ]
    },
    {
      "cell_type": "code",
      "execution_count": null,
      "metadata": {
        "colab": {
          "base_uri": "https://localhost:8080/"
        },
        "id": "B7-zXKBvfkwd",
        "outputId": "3c13e94d-26f6-4248-8d83-3e5728b2ed72"
      },
      "outputs": [
        {
          "name": "stdout",
          "output_type": "stream",
          "text": [
            "Testing initialization ... \n",
            "Testing test-time forward pass ... \n",
            "Testing training loss (no regularization)\n",
            "Running numeric gradient check with reg = 0.0\n",
            "W1 relative error: 1.8336562786695002e-08\n",
            "W2 relative error: 3.201560569143183e-10\n",
            "b1 relative error: 9.828315204644842e-09\n",
            "b2 relative error: 4.329134954569865e-10\n",
            "Running numeric gradient check with reg = 0.7\n",
            "W1 relative error: 2.5279152310200606e-07\n",
            "W2 relative error: 7.976652806155026e-08\n",
            "b1 relative error: 1.564679947504764e-08\n",
            "b2 relative error: 9.089617896905665e-10\n"
          ]
        }
      ],
      "source": [
        "N, D, H, C = 3, 5, 50, 7\n",
        "X = np.random.randn(N, D)\n",
        "y = np.random.randint(C, size=N)\n",
        "\n",
        "std = 1e-2\n",
        "model = TwoLayerNet(input_dim=D, hidden_dims=H, num_classes=C, weight_scale=std)\n",
        "\n",
        "print('Testing initialization ... ')\n",
        "W1_std = abs(model.params['W1'].std() - std)\n",
        "b1 = model.params['b1']\n",
        "W2_std = abs(model.params['W2'].std() - std)\n",
        "b2 = model.params['b2']\n",
        "assert W1_std < std / 10, 'First layer weights do not seem right'\n",
        "assert np.all(b1 == 0), 'First layer biases do not seem right'\n",
        "assert W2_std < std / 10, 'Second layer weights do not seem right'\n",
        "assert np.all(b2 == 0), 'Second layer biases do not seem right'\n",
        "\n",
        "print('Testing test-time forward pass ... ')\n",
        "model.params['W1'] = np.linspace(-0.7, 0.3, num=D*H).reshape(D, H)\n",
        "model.params['b1'] = np.linspace(-0.1, 0.9, num=H)\n",
        "model.params['W2'] = np.linspace(-0.3, 0.4, num=H*C).reshape(H, C)\n",
        "model.params['b2'] = np.linspace(-0.9, 0.1, num=C)\n",
        "X = np.linspace(-5.5, 4.5, num=N*D).reshape(D, N).T\n",
        "scores = model.loss(X)\n",
        "correct_scores = np.asarray(\n",
        "  [[11.53165108,  12.2917344,   13.05181771,  13.81190102,  14.57198434, 15.33206765,  16.09215096],\n",
        "   [12.05769098,  12.74614105,  13.43459113,  14.1230412,   14.81149128, 15.49994135,  16.18839143],\n",
        "   [12.58373087,  13.20054771,  13.81736455,  14.43418138,  15.05099822, 15.66781506,  16.2846319 ]])\n",
        "scores_diff = np.abs(scores - correct_scores).sum()\n",
        "assert scores_diff < 1e-6, 'Problem with test-time forward pass'\n",
        "\n",
        "print('Testing training loss (no regularization)')\n",
        "y = np.asarray([0, 5, 1])\n",
        "loss, grads = model.loss(X, y)\n",
        "correct_loss = 3.4702243556\n",
        "assert abs(loss - correct_loss) < 1e-10, 'Problem with training-time loss'\n",
        "\n",
        "model.reg = 1.0\n",
        "loss, grads = model.loss(X, y)\n",
        "correct_loss = 26.5948426952\n",
        "assert abs(loss - correct_loss) < 1e-10, 'Problem with regularization loss'\n",
        "\n",
        "for reg in [0.0, 0.7]:\n",
        "  print('Running numeric gradient check with reg = {}'.format(reg))\n",
        "  model.reg = reg\n",
        "  loss, grads = model.loss(X, y)\n",
        "\n",
        "  for name in sorted(grads):\n",
        "    f = lambda _: model.loss(X, y)[0]\n",
        "    grad_num = eval_numerical_gradient(f, model.params[name], verbose=False)\n",
        "    print('{} relative error: {}'.format(name, rel_error(grad_num, grads[name])))"
      ]
    },
    {
      "cell_type": "markdown",
      "metadata": {
        "id": "hsdonMN8fkwd"
      },
      "source": [
        "## Solver \n",
        "\n",
        "We will now use the utils Solver class to train these networks.  Familiarize yourself with the API in `utils/solver.py`.  After you have done so, declare an instance of a TwoLayerNet with 200 units and then train it with the Solver.  Choose parameters so that your validation accuracy is at least 50%."
      ]
    },
    {
      "cell_type": "code",
      "execution_count": null,
      "metadata": {
        "colab": {
          "base_uri": "https://localhost:8080/"
        },
        "id": "q8XLoJjvfkwd",
        "outputId": "cfacd5a1-2771-4a99-f455-4c80c646a980",
        "scrolled": false
      },
      "outputs": [
        {
          "name": "stdout",
          "output_type": "stream",
          "text": [
            "(Iteration 1 / 2940) loss: 2.298678\n",
            "(Epoch 0 / 15) train acc: 0.162000; val_acc: 0.160000\n",
            "(Epoch 1 / 15) train acc: 0.448000; val_acc: 0.432000\n",
            "(Epoch 2 / 15) train acc: 0.489000; val_acc: 0.476000\n",
            "(Epoch 3 / 15) train acc: 0.512000; val_acc: 0.462000\n",
            "(Epoch 4 / 15) train acc: 0.555000; val_acc: 0.493000\n",
            "(Epoch 5 / 15) train acc: 0.536000; val_acc: 0.511000\n",
            "(Iteration 1001 / 2940) loss: 1.204177\n",
            "(Epoch 6 / 15) train acc: 0.554000; val_acc: 0.503000\n",
            "(Epoch 7 / 15) train acc: 0.585000; val_acc: 0.526000\n",
            "(Epoch 8 / 15) train acc: 0.571000; val_acc: 0.516000\n",
            "(Epoch 9 / 15) train acc: 0.602000; val_acc: 0.529000\n",
            "(Epoch 10 / 15) train acc: 0.612000; val_acc: 0.542000\n",
            "(Iteration 2001 / 2940) loss: 1.141546\n",
            "(Epoch 11 / 15) train acc: 0.626000; val_acc: 0.523000\n",
            "(Epoch 12 / 15) train acc: 0.599000; val_acc: 0.547000\n",
            "(Epoch 13 / 15) train acc: 0.621000; val_acc: 0.528000\n",
            "(Epoch 14 / 15) train acc: 0.629000; val_acc: 0.527000\n",
            "(Epoch 15 / 15) train acc: 0.665000; val_acc: 0.533000\n"
          ]
        }
      ],
      "source": [
        "model = TwoLayerNet()\n",
        "solver = None\n",
        "\n",
        "# ================================================================ #\n",
        "# YOUR CODE HERE:\n",
        "#   Declare an instance of a TwoLayerNet and then train \n",
        "#   it with the Solver. Choose hyperparameters so that your validation \n",
        "#   accuracy is at least 50%.  We won't have you optimize this further\n",
        "#   since you did it in the previous notebook.\n",
        "#\n",
        "# ================================================================ #\n",
        "\n",
        "model = TwoLayerNet(hidden_dims=200)\n",
        "solver = Solver(model, data, optim_config={'learning_rate': 1e-3}, lr_decay=0.95,\n",
        "                batch_size=250, num_epochs=15, print_every=1000)\n",
        "solver.train()\n",
        "\n",
        "# ================================================================ #\n",
        "# END YOUR CODE HERE\n",
        "# ================================================================ #"
      ]
    },
    {
      "cell_type": "code",
      "execution_count": null,
      "metadata": {
        "colab": {
          "base_uri": "https://localhost:8080/",
          "height": 730
        },
        "id": "qv1F1RWWfkwe",
        "outputId": "2826cddd-4ac3-4576-aae4-da2425727578"
      },
      "outputs": [
        {
          "data": {
            "image/png": "[encoded data removed]",
            "text/plain": [
              "<Figure size 1080x864 with 2 Axes>"
            ]
          },
          "metadata": {
            "needs_background": "light"
          },
          "output_type": "display_data"
        }
      ],
      "source": [
        "# Run this cell to visualize training loss and train / val accuracy\n",
        "\n",
        "plt.subplot(2, 1, 1)\n",
        "plt.title('Training loss')\n",
        "plt.plot(solver.loss_history, 'o')\n",
        "plt.xlabel('Iteration')\n",
        "\n",
        "plt.subplot(2, 1, 2)\n",
        "plt.title('Accuracy')\n",
        "plt.plot(solver.train_acc_history, '-o', label='train')\n",
        "plt.plot(solver.val_acc_history, '-o', label='val')\n",
        "plt.plot([0.5] * len(solver.val_acc_history), 'k--')\n",
        "plt.xlabel('Epoch')\n",
        "plt.legend(loc='lower right')\n",
        "plt.gcf().set_size_inches(15, 12)\n",
        "plt.show()"
      ]
    },
    {
      "cell_type": "markdown",
      "metadata": {
        "id": "jwqrLFbdfkwe"
      },
      "source": [
        "## Multilayer Neural Network\n",
        "\n",
        "Now, we implement a multi-layer neural network.\n",
        "\n",
        "Read through the `FullyConnectedNet` class in the file `nndl/fc_net.py`.\n",
        "\n",
        "Implement the initialization, the forward pass, and the backward pass.  There will be lines for batchnorm and dropout layers and caches; ignore these all for now.  That'll be in HW #4."
      ]
    },
    {
      "cell_type": "code",
      "execution_count": null,
      "metadata": {
        "colab": {
          "base_uri": "https://localhost:8080/"
        },
        "id": "iobtqAz-fkwe",
        "outputId": "2ab8dfa5-9ed5-4414-f869-e0c7079bd10b"
      },
      "outputs": [
        {
          "name": "stdout",
          "output_type": "stream",
          "text": [
            "Running check with reg = 0\n",
            "Initial loss: 2.30953674615749\n",
            "W1 relative error: 2.172194730755273e-07\n",
            "W2 relative error: 1.234183618044808e-06\n",
            "W3 relative error: 5.855392907785484e-05\n",
            "b1 relative error: 9.71070415150776e-09\n",
            "b2 relative error: 1.7859649529819995e-08\n",
            "b3 relative error: 1.338391037731098e-10\n",
            "Running check with reg = 3.14\n",
            "Initial loss: 7.280793076881448\n",
            "W1 relative error: 1.4389847590654215e-08\n",
            "W2 relative error: 5.914976424779534e-08\n",
            "W3 relative error: 1.1039136174851386e-08\n",
            "b1 relative error: 1.772236439951974e-07\n",
            "b2 relative error: 3.626079306501866e-08\n",
            "b3 relative error: 2.2569137638985528e-10\n"
          ]
        }
      ],
      "source": [
        "N, D, H1, H2, C = 2, 15, 20, 30, 10\n",
        "X = np.random.randn(N, D)\n",
        "y = np.random.randint(C, size=(N,))\n",
        "\n",
        "for reg in [0, 3.14]:\n",
        "  print('Running check with reg = {}'.format(reg))\n",
        "  model = FullyConnectedNet([H1, H2], input_dim=D, num_classes=C,\n",
        "                            reg=reg, weight_scale=5e-2, dtype=np.float64)\n",
        "\n",
        "  loss, grads = model.loss(X, y)\n",
        "  print('Initial loss: {}'.format(loss))\n",
        "\n",
        "  for name in sorted(grads):\n",
        "    f = lambda _: model.loss(X, y)[0]\n",
        "    grad_num = eval_numerical_gradient(f, model.params[name], verbose=False, h=1e-5)\n",
        "    print('{} relative error: {}'.format(name, rel_error(grad_num, grads[name])))"
      ]
    },
    {
      "cell_type": "code",
      "execution_count": null,
      "metadata": {
        "colab": {
          "base_uri": "https://localhost:8080/",
          "height": 947
        },
        "id": "x9NI9Frzfkwe",
        "outputId": "d9ab9e93-6542-484a-bcf6-41933c71b02a"
      },
      "outputs": [
        {
          "name": "stdout",
          "output_type": "stream",
          "text": [
            "(Iteration 1 / 40) loss: 2.274504\n",
            "(Epoch 0 / 20) train acc: 0.300000; val_acc: 0.152000\n",
            "(Epoch 1 / 20) train acc: 0.380000; val_acc: 0.122000\n",
            "(Epoch 2 / 20) train acc: 0.360000; val_acc: 0.122000\n",
            "(Epoch 3 / 20) train acc: 0.600000; val_acc: 0.138000\n",
            "(Epoch 4 / 20) train acc: 0.620000; val_acc: 0.197000\n",
            "(Epoch 5 / 20) train acc: 0.620000; val_acc: 0.164000\n",
            "(Iteration 11 / 40) loss: 1.338966\n",
            "(Epoch 6 / 20) train acc: 0.560000; val_acc: 0.138000\n",
            "(Epoch 7 / 20) train acc: 0.840000; val_acc: 0.213000\n",
            "(Epoch 8 / 20) train acc: 0.880000; val_acc: 0.188000\n",
            "(Epoch 9 / 20) train acc: 0.780000; val_acc: 0.189000\n",
            "(Epoch 10 / 20) train acc: 0.980000; val_acc: 0.204000\n",
            "(Iteration 21 / 40) loss: 0.444049\n",
            "(Epoch 11 / 20) train acc: 1.000000; val_acc: 0.194000\n",
            "(Epoch 12 / 20) train acc: 0.980000; val_acc: 0.194000\n",
            "(Epoch 13 / 20) train acc: 1.000000; val_acc: 0.198000\n",
            "(Epoch 14 / 20) train acc: 1.000000; val_acc: 0.198000\n",
            "(Epoch 15 / 20) train acc: 1.000000; val_acc: 0.197000\n",
            "(Iteration 31 / 40) loss: 0.085761\n",
            "(Epoch 16 / 20) train acc: 1.000000; val_acc: 0.199000\n",
            "(Epoch 17 / 20) train acc: 1.000000; val_acc: 0.214000\n",
            "(Epoch 18 / 20) train acc: 1.000000; val_acc: 0.196000\n",
            "(Epoch 19 / 20) train acc: 1.000000; val_acc: 0.198000\n",
            "(Epoch 20 / 20) train acc: 1.000000; val_acc: 0.200000\n"
          ]
        },
        {
          "data": {
            "image/png": "[encoded data removed]",
            "text/plain": [
              "<Figure size 720x576 with 1 Axes>"
            ]
          },
          "metadata": {
            "needs_background": "light"
          },
          "output_type": "display_data"
        }
      ],
      "source": [
        "# Use the three layer neural network to overfit a small dataset.\n",
        "\n",
        "num_train = 50\n",
        "small_data = {\n",
        "  'X_train': data['X_train'][:num_train],\n",
        "  'y_train': data['y_train'][:num_train],\n",
        "  'X_val': data['X_val'],\n",
        "  'y_val': data['y_val'],\n",
        "}\n",
        "\n",
        "\n",
        "#### !!!!!!\n",
        "# Play around with the weight_scale and learning_rate so that you can overfit a small dataset.\n",
        "# Your training accuracy should be 1.0 to receive full credit on this part.\n",
        "weight_scale = 1e-2\n",
        "learning_rate = 1e-2\n",
        "\n",
        "model = FullyConnectedNet([100, 100],\n",
        "              weight_scale=weight_scale, dtype=np.float64)\n",
        "solver = Solver(model, small_data,\n",
        "                print_every=10, num_epochs=20, batch_size=25,\n",
        "                update_rule='sgd',\n",
        "                optim_config={\n",
        "                  'learning_rate': learning_rate,\n",
        "                }\n",
        "         )\n",
        "solver.train()\n",
        "\n",
        "plt.plot(solver.loss_history, 'o')\n",
        "plt.title('Training loss history')\n",
        "plt.xlabel('Iteration')\n",
        "plt.ylabel('Training loss')\n",
        "plt.show()"
      ]
    }
  ],
  "metadata": {
    "colab": {
      "provenance": []
    },
    "kernelspec": {
      "display_name": "Python 3 (ipykernel)",
      "language": "python",
      "name": "python3"
    },
    "language_info": {
      "codemirror_mode": {
        "name": "ipython",
        "version": 3
      },
      "file_extension": ".py",
      "mimetype": "text/x-python",
      "name": "python",
      "nbconvert_exporter": "python",
      "pygments_lexer": "ipython3",
      "version": "3.10.9"
    },
    "varInspector": {
      "cols": {
        "lenName": 16,
        "lenType": 16,
        "lenVar": 40
      },
      "kernels_config": {
        "python": {
          "delete_cmd_postfix": "",
          "delete_cmd_prefix": "del ",
          "library": "var_list.py",
          "varRefreshCmd": "print(var_dic_list())"
        },
        "r": {
          "delete_cmd_postfix": ") ",
          "delete_cmd_prefix": "rm(",
          "library": "var_list.r",
          "varRefreshCmd": "cat(var_dic_list()) "
        }
      },
      "types_to_exclude": [
        "module",
        "function",
        "builtin_function_or_method",
        "instance",
        "_Feature"
      ],
      "window_display": true
    }
  },
  "nbformat": 4,
  "nbformat_minor": 0
}
